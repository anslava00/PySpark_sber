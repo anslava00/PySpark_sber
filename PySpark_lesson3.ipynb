{
  "nbformat": 4,
  "nbformat_minor": 0,
  "metadata": {
    "colab": {
      "provenance": [],
      "authorship_tag": "ABX9TyOpNuAiAd+dcpxXtkaQFQ+x",
      "include_colab_link": true
    },
    "kernelspec": {
      "name": "python3",
      "display_name": "Python 3"
    },
    "language_info": {
      "name": "python"
    }
  },
  "cells": [
    {
      "cell_type": "markdown",
      "metadata": {
        "id": "view-in-github",
        "colab_type": "text"
      },
      "source": [
        "<a href=\"https://colab.research.google.com/github/anslava00/PySpark_sber/blob/main/PySpark_lesson3.ipynb\" target=\"_parent\"><img src=\"https://colab.research.google.com/assets/colab-badge.svg\" alt=\"Open In Colab\"/></a>"
      ]
    },
    {
      "cell_type": "code",
      "execution_count": null,
      "metadata": {
        "colab": {
          "base_uri": "https://localhost:8080/"
        },
        "id": "jASZxB-iAOh6",
        "outputId": "d235d9c6-6735-449a-98bd-7b4f06cc986f"
      },
      "outputs": [
        {
          "output_type": "stream",
          "name": "stdout",
          "text": [
            "Looking in indexes: https://pypi.org/simple, https://us-python.pkg.dev/colab-wheels/public/simple/\n",
            "Requirement already satisfied: pyspark in /usr/local/lib/python3.8/dist-packages (3.3.2)\n",
            "Requirement already satisfied: findspark in /usr/local/lib/python3.8/dist-packages (2.0.1)\n",
            "Requirement already satisfied: py4j==0.10.9.5 in /usr/local/lib/python3.8/dist-packages (from pyspark) (0.10.9.5)\n"
          ]
        }
      ],
      "source": [
        "!pip install pyspark findspark"
      ]
    },
    {
      "cell_type": "code",
      "source": [
        "from pyspark.sql import SparkSession\n",
        "from pyspark import SparkContext, SparkConf\n",
        "import pyspark.sql.functions as F"
      ],
      "metadata": {
        "id": "smZyjVCKUlSR"
      },
      "execution_count": null,
      "outputs": []
    },
    {
      "cell_type": "code",
      "source": [
        "from pyspark.sql import SparkSession\n",
        "from pyspark import SparkContext, SparkConf\n",
        "import pyspark.sql.functions as F\n",
        "\n",
        "conf = SparkConf().set('spark.ui.port', '4050').set('spark.serializer', 'org.apache.spark.serializer.KryoSerializer')\\\n",
        "                  .set('spark.dynamicAllocation.enabled', 'true')\\\n",
        "                  .set('spark.shuffle.service.enabled', 'true') #трекер, чтобы возвращать ресурсы\n",
        "sc = SparkContext(conf=conf)\n",
        "spark = SparkSession.builder.master('local[*]').getOrCreate()"
      ],
      "metadata": {
        "id": "jDjy3pX-U_e8"
      },
      "execution_count": null,
      "outputs": []
    },
    {
      "cell_type": "code",
      "source": [
        "from google.colab import drive\n",
        "drive.mount('/content/drive')"
      ],
      "metadata": {
        "colab": {
          "base_uri": "https://localhost:8080/"
        },
        "id": "ipsh5aV7Umw-",
        "outputId": "0b1cd99c-ed37-4935-c67e-bd054a9dafbb"
      },
      "execution_count": null,
      "outputs": [
        {
          "output_type": "stream",
          "name": "stdout",
          "text": [
            "Drive already mounted at /content/drive; to attempt to forcibly remount, call drive.mount(\"/content/drive\", force_remount=True).\n"
          ]
        }
      ]
    },
    {
      "cell_type": "code",
      "source": [
        "from pyspark.sql.window import Window"
      ],
      "metadata": {
        "id": "BRLzoK0bUpdI"
      },
      "execution_count": null,
      "outputs": []
    },
    {
      "cell_type": "code",
      "source": [
        "trans_data = spark.read.parquet('/content/drive/MyDrive/Colab_Notebooks/spark_transactions.parquet')"
      ],
      "metadata": {
        "id": "QYPmD-UtU4Oo"
      },
      "execution_count": null,
      "outputs": []
    },
    {
      "cell_type": "code",
      "source": [
        "trans_data.show(3)"
      ],
      "metadata": {
        "colab": {
          "base_uri": "https://localhost:8080/"
        },
        "id": "e1K3iPOFU40C",
        "outputId": "f5acb21a-07f4-4a5e-fdee-4c5ca7b2cd86"
      },
      "execution_count": null,
      "outputs": [
        {
          "output_type": "stream",
          "name": "stdout",
          "text": [
            "+----+----+----+-----+---+-----+-------+-----------------+-------------+-------------+-------+----+-------+\n",
            "|User|Card|Year|Month|Day| Time| Amount|          UseChip| MerchantCity|MerchantState|    Zip| MCC|IsFraud|\n",
            "+----+----+----+-----+---+-----+-------+-----------------+-------------+-------------+-------+----+-------+\n",
            "|   0|   0|2002|    9|  1|06:21|$134.09|Swipe Transaction|     La Verne|           CA|91750.0|5300|     No|\n",
            "|   0|   0|2002|    9|  1|06:42| $38.48|Swipe Transaction|Monterey Park|           CA|91754.0|5411|     No|\n",
            "|   0|   0|2002|    9|  2|06:22|$120.34|Swipe Transaction|Monterey Park|           CA|91754.0|5411|     No|\n",
            "+----+----+----+-----+---+-----+-------+-----------------+-------------+-------------+-------+----+-------+\n",
            "only showing top 3 rows\n",
            "\n"
          ]
        }
      ]
    },
    {
      "cell_type": "markdown",
      "source": [
        "Посмотрим на схему данных"
      ],
      "metadata": {
        "id": "_qVctoVTX9Z_"
      }
    },
    {
      "cell_type": "code",
      "source": [
        "trans_data.printSchema()"
      ],
      "metadata": {
        "colab": {
          "base_uri": "https://localhost:8080/"
        },
        "id": "LM37KnWeX-EA",
        "outputId": "8f82a50d-1e5e-41a8-a279-eaf32fd9ce5a"
      },
      "execution_count": null,
      "outputs": [
        {
          "output_type": "stream",
          "name": "stdout",
          "text": [
            "root\n",
            " |-- User: long (nullable = true)\n",
            " |-- Card: long (nullable = true)\n",
            " |-- Year: long (nullable = true)\n",
            " |-- Month: long (nullable = true)\n",
            " |-- Day: long (nullable = true)\n",
            " |-- Time: string (nullable = true)\n",
            " |-- Amount: string (nullable = true)\n",
            " |-- UseChip: string (nullable = true)\n",
            " |-- MerchantCity: string (nullable = true)\n",
            " |-- MerchantState: string (nullable = true)\n",
            " |-- Zip: double (nullable = true)\n",
            " |-- MCC: long (nullable = true)\n",
            " |-- IsFraud: string (nullable = true)\n",
            "\n"
          ]
        }
      ]
    },
    {
      "cell_type": "markdown",
      "source": [
        "Сколько в среднем транзакций у пользователя"
      ],
      "metadata": {
        "id": "2zffp76wYAz-"
      }
    },
    {
      "cell_type": "code",
      "source": [
        "trans_data.groupBy('User').count()\\\n",
        "          .select(F.mean('count').alias('mean_for_users')).show()"
      ],
      "metadata": {
        "colab": {
          "base_uri": "https://localhost:8080/"
        },
        "id": "gh_XA9EVYSym",
        "outputId": "bcba98be-383f-4f38-e0c4-6f6fd7e8be69"
      },
      "execution_count": null,
      "outputs": [
        {
          "output_type": "stream",
          "name": "stdout",
          "text": [
            "+--------------+\n",
            "|mean_for_users|\n",
            "+--------------+\n",
            "|      12193.45|\n",
            "+--------------+\n",
            "\n"
          ]
        }
      ]
    },
    {
      "cell_type": "markdown",
      "source": [
        "Сколько карт у пользователей в среднем"
      ],
      "metadata": {
        "id": "yNwbCrl3YRDu"
      }
    },
    {
      "cell_type": "code",
      "source": [
        "trans_data.groupBy('User').sum('Card')\\\n",
        "          .select(F.mean('sum(Card)').alias('mean_for_users_card')).show()"
      ],
      "metadata": {
        "colab": {
          "base_uri": "https://localhost:8080/"
        },
        "id": "fCGpZQrwYSKF",
        "outputId": "0c860987-41ae-4be1-bedc-f1280aa2829b"
      },
      "execution_count": null,
      "outputs": [
        {
          "output_type": "stream",
          "name": "stdout",
          "text": [
            "+-------------------+\n",
            "|mean_for_users_card|\n",
            "+-------------------+\n",
            "|          16477.816|\n",
            "+-------------------+\n",
            "\n"
          ]
        }
      ]
    },
    {
      "cell_type": "markdown",
      "source": [
        "Немного обработаем данные: Amount в float, из Time вытянем час транзакции и удалим исходный Time, Zip  к типу int"
      ],
      "metadata": {
        "id": "7X_mDX-we_ol"
      }
    },
    {
      "cell_type": "code",
      "source": [
        "proc_data = trans_data\\\n",
        "            .withColumn('TimeN', F.substring(trans_data.Time, 0, 2))\\\n",
        "            .drop('Time').withColumnRenamed('TimeN', 'Time')\\\n",
        "            .withColumn('Amount', F.regexp_extract(trans_data.Amount,'(\\d+)' , 1).cast('float'))\\\n",
        "            .withColumn('Zip', trans_data.Zip.cast('int'))\n",
        "proc_data.show()"
      ],
      "metadata": {
        "colab": {
          "base_uri": "https://localhost:8080/"
        },
        "id": "sChEcD3_fJKj",
        "outputId": "44b274ce-f907-45f6-cbbe-ed0183076e8d"
      },
      "execution_count": null,
      "outputs": [
        {
          "output_type": "stream",
          "name": "stdout",
          "text": [
            "+----+----+----+-----+---+------+------------------+-------------+-------------+-----+----+-------+----+\n",
            "|User|Card|Year|Month|Day|Amount|           UseChip| MerchantCity|MerchantState|  Zip| MCC|IsFraud|Time|\n",
            "+----+----+----+-----+---+------+------------------+-------------+-------------+-----+----+-------+----+\n",
            "|   0|   0|2002|    9|  1| 134.0| Swipe Transaction|     La Verne|           CA|91750|5300|     No|  06|\n",
            "|   0|   0|2002|    9|  1|  38.0| Swipe Transaction|Monterey Park|           CA|91754|5411|     No|  06|\n",
            "|   0|   0|2002|    9|  2| 120.0| Swipe Transaction|Monterey Park|           CA|91754|5411|     No|  06|\n",
            "|   0|   0|2002|    9|  2| 128.0| Swipe Transaction|Monterey Park|           CA|91754|5651|     No|  17|\n",
            "|   0|   0|2002|    9|  3| 104.0| Swipe Transaction|     La Verne|           CA|91750|5912|     No|  06|\n",
            "|   0|   0|2002|    9|  3|  86.0| Swipe Transaction|Monterey Park|           CA|91755|5970|     No|  13|\n",
            "|   0|   0|2002|    9|  4|  93.0| Swipe Transaction|Monterey Park|           CA|91754|5411|     No|  05|\n",
            "|   0|   0|2002|    9|  4| 123.0| Swipe Transaction|Monterey Park|           CA|91754|5411|     No|  06|\n",
            "|   0|   0|2002|    9|  5|  61.0| Swipe Transaction|Monterey Park|           CA|91754|5411|     No|  06|\n",
            "|   0|   0|2002|    9|  5|  57.0| Swipe Transaction|     La Verne|           CA|91750|7538|     No|  09|\n",
            "|   0|   0|2002|    9|  5|  76.0| Swipe Transaction|     La Verne|           CA|91750|5814|     No|  20|\n",
            "|   0|   0|2002|    9|  5|  53.0|Online Transaction|       ONLINE|         null| null|4900|     No|  20|\n",
            "|   0|   0|2002|    9|  6| 110.0| Swipe Transaction|    Mira Loma|           CA|91752|5541|     No|  06|\n",
            "|   0|   0|2002|    9|  7| 117.0| Swipe Transaction|Monterey Park|           CA|91754|5411|     No|  06|\n",
            "|   0|   0|2002|    9|  7|  45.0| Swipe Transaction|Monterey Park|           CA|91755|5942|     No|  06|\n",
            "|   0|   0|2002|    9|  7|  29.0| Swipe Transaction|     La Verne|           CA|91750|7538|     No|  09|\n",
            "|   0|   0|2002|    9|  8| 147.0| Swipe Transaction|     La Verne|           CA|91750|5912|     No|  06|\n",
            "|   0|   0|2002|    9|  8|  27.0| Swipe Transaction|     La Verne|           CA|91750|5411|     No|  06|\n",
            "|   0|   0|2002|    9|  8|  76.0| Swipe Transaction|Monterey Park|           CA|91754|5411|     No|  13|\n",
            "|   0|   0|2002|    9|  8|  22.0| Swipe Transaction|    Mira Loma|           CA|91752|7832|     No|  22|\n",
            "+----+----+----+-----+---+------+------------------+-------------+-------------+-----+----+-------+----+\n",
            "only showing top 20 rows\n",
            "\n"
          ]
        }
      ]
    },
    {
      "cell_type": "markdown",
      "metadata": {
        "id": "VY1LNlFafLdY"
      },
      "source": [
        "Посчитайте количество транзакций по годам, учитывая только те транзакции, объем которых был больше 100"
      ]
    },
    {
      "cell_type": "code",
      "source": [
        "proc_data.printSchema()"
      ],
      "metadata": {
        "colab": {
          "base_uri": "https://localhost:8080/"
        },
        "id": "-DgZvOYf6uhS",
        "outputId": "eecea8b7-9329-4ee7-9ffb-0cb3628c1cce"
      },
      "execution_count": null,
      "outputs": [
        {
          "output_type": "stream",
          "name": "stdout",
          "text": [
            "root\n",
            " |-- User: long (nullable = true)\n",
            " |-- Card: long (nullable = true)\n",
            " |-- Year: long (nullable = true)\n",
            " |-- Month: long (nullable = true)\n",
            " |-- Day: long (nullable = true)\n",
            " |-- Amount: float (nullable = true)\n",
            " |-- UseChip: string (nullable = true)\n",
            " |-- MerchantCity: string (nullable = true)\n",
            " |-- MerchantState: string (nullable = true)\n",
            " |-- Zip: integer (nullable = true)\n",
            " |-- MCC: long (nullable = true)\n",
            " |-- IsFraud: string (nullable = true)\n",
            " |-- Time: string (nullable = true)\n",
            "\n"
          ]
        }
      ]
    },
    {
      "cell_type": "code",
      "source": [
        "proc_data.filter(F.col('Amount') > 100).groupBy('Year').count().show()"
      ],
      "metadata": {
        "colab": {
          "base_uri": "https://localhost:8080/"
        },
        "id": "9qALOIPjfIf0",
        "outputId": "a440ea7d-3739-43dd-8de0-6b1a34511d3c"
      },
      "execution_count": null,
      "outputs": [
        {
          "output_type": "stream",
          "name": "stdout",
          "text": [
            "+----+------+\n",
            "|Year| count|\n",
            "+----+------+\n",
            "|2007|126495|\n",
            "|2014|186557|\n",
            "|2012|181524|\n",
            "|1991|   278|\n",
            "|2016|190323|\n",
            "|1994|  1607|\n",
            "|2018|189510|\n",
            "|1999| 14358|\n",
            "|1997|  5846|\n",
            "|2009|156325|\n",
            "|2010|171967|\n",
            "|2006|110132|\n",
            "|2017|190046|\n",
            "|1998|  9409|\n",
            "|2013|185881|\n",
            "|2004| 72738|\n",
            "|2003| 56560|\n",
            "|2002| 42572|\n",
            "|2011|179197|\n",
            "|2020| 36178|\n",
            "+----+------+\n",
            "only showing top 20 rows\n",
            "\n"
          ]
        }
      ]
    },
    {
      "cell_type": "markdown",
      "source": [
        "Определите, есть ли пропуски в данных по каждому столбцу"
      ],
      "metadata": {
        "id": "POlhv_EtfDSX"
      }
    },
    {
      "cell_type": "code",
      "source": [
        "proc_data.count()"
      ],
      "metadata": {
        "colab": {
          "base_uri": "https://localhost:8080/"
        },
        "id": "VAsB-R-sCI8r",
        "outputId": "974cd19a-0a1e-4821-c9ee-3265daba8da6"
      },
      "execution_count": null,
      "outputs": [
        {
          "output_type": "execute_result",
          "data": {
            "text/plain": [
              "24386900"
            ]
          },
          "metadata": {},
          "execution_count": 16
        }
      ]
    },
    {
      "cell_type": "code",
      "source": [
        "proc_data.select([F.count(F.when(F.isnan(c) | F.col(c).isNull(), c)).alias(c) for c in proc_data.columns]).show()"
      ],
      "metadata": {
        "colab": {
          "base_uri": "https://localhost:8080/"
        },
        "id": "LKHA1zxLfheO",
        "outputId": "ab618ef4-cf6b-4f0b-a07a-00eb26bebf54"
      },
      "execution_count": null,
      "outputs": [
        {
          "output_type": "stream",
          "name": "stdout",
          "text": [
            "+----+----+----+-----+---+------+-------+------------+-------------+-------+---+-------+----+\n",
            "|User|Card|Year|Month|Day|Amount|UseChip|MerchantCity|MerchantState|    Zip|MCC|IsFraud|Time|\n",
            "+----+----+----+-----+---+------+-------+------------+-------------+-------+---+-------+----+\n",
            "|   0|   0|   0|    0|  0|     0|      0|           0|      2720821|2878135|  0|      0|   0|\n",
            "+----+----+----+-----+---+------+-------+------------+-------------+-------+---+-------+----+\n",
            "\n"
          ]
        }
      ]
    },
    {
      "cell_type": "markdown",
      "source": [
        "Заполните пропуски исходя из типа данных"
      ],
      "metadata": {
        "id": "Wvo7XpA6fDQj"
      }
    },
    {
      "cell_type": "code",
      "source": [],
      "metadata": {
        "id": "eZj4Zt_6fg_2"
      },
      "execution_count": null,
      "outputs": []
    },
    {
      "cell_type": "markdown",
      "source": [
        "При помощи оконных функций для каждого клиента рассчитайте средний размер транзакции, количество транзакций и последнюю по дате транзакцию."
      ],
      "metadata": {
        "id": "EbX-DH_0fDNH"
      }
    },
    {
      "cell_type": "code",
      "source": [
        "from pyspark.sql.window import Window\n",
        "window_proc_data = proc_data.select('User', 'Card', 'Year', 'Month', 'Day', 'Amount')\\\n",
        ".withColumn('mean_tran', F.mean('Amount').over(Window.partitionBy('User')))\\\n",
        ".withColumn('count_tran', F.count('Amount').over(Window.partitionBy('User')))\\\n",
        ".withColumn('last_tran_data', F.max('Year').over(Window.partitionBy('User')))\n",
        "\n",
        "window_proc_data.show()"
      ],
      "metadata": {
        "id": "YLZwre9nfgnV",
        "colab": {
          "base_uri": "https://localhost:8080/"
        },
        "outputId": "399b16f6-146c-4dfd-941a-77ba96de6127"
      },
      "execution_count": null,
      "outputs": [
        {
          "output_type": "stream",
          "name": "stdout",
          "text": [
            "+----+----+----+-----+---+------+-----------------+----------+--------------+\n",
            "|User|Card|Year|Month|Day|Amount|        mean_tran|count_tran|last_tran_data|\n",
            "+----+----+----+-----+---+------+-----------------+----------+--------------+\n",
            "|   0|   0|2002|    9|  1| 134.0|89.72198567349596|     19963|          2020|\n",
            "|   0|   0|2002|    9|  1|  38.0|89.72198567349596|     19963|          2020|\n",
            "|   0|   0|2002|    9|  2| 120.0|89.72198567349596|     19963|          2020|\n",
            "|   0|   0|2002|    9|  2| 128.0|89.72198567349596|     19963|          2020|\n",
            "|   0|   0|2002|    9|  3| 104.0|89.72198567349596|     19963|          2020|\n",
            "|   0|   0|2002|    9|  3|  86.0|89.72198567349596|     19963|          2020|\n",
            "|   0|   0|2002|    9|  4|  93.0|89.72198567349596|     19963|          2020|\n",
            "|   0|   0|2002|    9|  4| 123.0|89.72198567349596|     19963|          2020|\n",
            "|   0|   0|2002|    9|  5|  61.0|89.72198567349596|     19963|          2020|\n",
            "|   0|   0|2002|    9|  5|  57.0|89.72198567349596|     19963|          2020|\n",
            "|   0|   0|2002|    9|  5|  76.0|89.72198567349596|     19963|          2020|\n",
            "|   0|   0|2002|    9|  5|  53.0|89.72198567349596|     19963|          2020|\n",
            "|   0|   0|2002|    9|  6| 110.0|89.72198567349596|     19963|          2020|\n",
            "|   0|   0|2002|    9|  7| 117.0|89.72198567349596|     19963|          2020|\n",
            "|   0|   0|2002|    9|  7|  45.0|89.72198567349596|     19963|          2020|\n",
            "|   0|   0|2002|    9|  7|  29.0|89.72198567349596|     19963|          2020|\n",
            "|   0|   0|2002|    9|  8| 147.0|89.72198567349596|     19963|          2020|\n",
            "|   0|   0|2002|    9|  8|  27.0|89.72198567349596|     19963|          2020|\n",
            "|   0|   0|2002|    9|  8|  76.0|89.72198567349596|     19963|          2020|\n",
            "|   0|   0|2002|    9|  8|  22.0|89.72198567349596|     19963|          2020|\n",
            "+----+----+----+-----+---+------+-----------------+----------+--------------+\n",
            "only showing top 20 rows\n",
            "\n"
          ]
        }
      ]
    },
    {
      "cell_type": "code",
      "source": [
        "window_proc_data.filter(F.col('User') == 0).show(4)\n",
        "window_proc_data.filter(F.col('User') == 1).show(4)\n",
        "window_proc_data.filter(F.col('User') == 2).show(4)"
      ],
      "metadata": {
        "colab": {
          "base_uri": "https://localhost:8080/"
        },
        "id": "JlbvVNHk9Fys",
        "outputId": "2cd59476-1bd0-43fe-eda9-535412a180c4"
      },
      "execution_count": null,
      "outputs": [
        {
          "output_type": "stream",
          "name": "stdout",
          "text": [
            "+----+----+----+-----+---+------+-----------------+----------+--------------+\n",
            "|User|Card|Year|Month|Day|Amount|        mean_tran|count_tran|last_tran_data|\n",
            "+----+----+----+-----+---+------+-----------------+----------+--------------+\n",
            "|   0|   0|2002|    9|  1| 134.0|89.72198567349596|     19963|          2020|\n",
            "|   0|   0|2002|    9|  1|  38.0|89.72198567349596|     19963|          2020|\n",
            "|   0|   0|2002|    9|  2| 120.0|89.72198567349596|     19963|          2020|\n",
            "|   0|   0|2002|    9|  2| 128.0|89.72198567349596|     19963|          2020|\n",
            "+----+----+----+-----+---+------+-----------------+----------+--------------+\n",
            "only showing top 4 rows\n",
            "\n",
            "+----+----+----+-----+---+------+-----------------+----------+--------------+\n",
            "|User|Card|Year|Month|Day|Amount|        mean_tran|count_tran|last_tran_data|\n",
            "+----+----+----+-----+---+------+-----------------+----------+--------------+\n",
            "|   1|   0|2003|    9|  1|  65.0|97.57158874313264|      8919|          2020|\n",
            "|   1|   0|2003|    9|  4|  98.0|97.57158874313264|      8919|          2020|\n",
            "|   1|   0|2003|    9|  7|  49.0|97.57158874313264|      8919|          2020|\n",
            "|   1|   0|2003|    9|  7| 827.0|97.57158874313264|      8919|          2020|\n",
            "+----+----+----+-----+---+------+-----------------+----------+--------------+\n",
            "only showing top 4 rows\n",
            "\n",
            "+----+----+----+-----+---+------+-----------------+----------+--------------+\n",
            "|User|Card|Year|Month|Day|Amount|        mean_tran|count_tran|last_tran_data|\n",
            "+----+----+----+-----+---+------+-----------------+----------+--------------+\n",
            "|   2|   0|2009|    9| 26| 948.0|38.91783791509838|     41978|          2020|\n",
            "|   2|   0|2009|   10|  1|  42.0|38.91783791509838|     41978|          2020|\n",
            "|   2|   0|2009|   10|  1|   9.0|38.91783791509838|     41978|          2020|\n",
            "|   2|   0|2009|   10|  1|  36.0|38.91783791509838|     41978|          2020|\n",
            "+----+----+----+-----+---+------+-----------------+----------+--------------+\n",
            "only showing top 4 rows\n",
            "\n"
          ]
        }
      ]
    },
    {
      "cell_type": "markdown",
      "source": [
        "Теперь самое время сгруппировать данные по каждому клиенту (можно использовать collect_list для сбора данных после агрегации)\n",
        "Когда будете делать агрегацию, то возьмите только часть выборки, например, через sample, для всей выборки либо не хватит памяти, либо очень долго считать"
      ],
      "metadata": {
        "id": "G6ttmEpRfDLE"
      }
    },
    {
      "cell_type": "code",
      "source": [
        "simp_data = trans_data.sample(fraction=0.3, seed=3)"
      ],
      "metadata": {
        "id": "Zlq9IUT9ff4C"
      },
      "execution_count": null,
      "outputs": []
    },
    {
      "cell_type": "code",
      "source": [
        "print(simp_data.count())\n",
        "simp_data.show(5)"
      ],
      "metadata": {
        "colab": {
          "base_uri": "https://localhost:8080/"
        },
        "id": "7j6-B-sCv4hV",
        "outputId": "2e01dd74-fdbf-4eb8-d17c-cf2f71ba7777"
      },
      "execution_count": null,
      "outputs": [
        {
          "output_type": "stream",
          "name": "stdout",
          "text": [
            "7312560\n",
            "+----+----+----+-----+---+-----+-------+-----------------+-------------+-------------+-------+----+-------+\n",
            "|User|Card|Year|Month|Day| Time| Amount|          UseChip| MerchantCity|MerchantState|    Zip| MCC|IsFraud|\n",
            "+----+----+----+-----+---+-----+-------+-----------------+-------------+-------------+-------+----+-------+\n",
            "|   0|   0|2002|    9|  1|06:21|$134.09|Swipe Transaction|     La Verne|           CA|91750.0|5300|     No|\n",
            "|   0|   0|2002|    9|  3|06:23|$104.71|Swipe Transaction|     La Verne|           CA|91750.0|5912|     No|\n",
            "|   0|   0|2002|    9|  3|13:53| $86.19|Swipe Transaction|Monterey Park|           CA|91755.0|5970|     No|\n",
            "|   0|   0|2002|    9|  8|06:38| $27.75|Swipe Transaction|     La Verne|           CA|91750.0|5411|     No|\n",
            "|   0|   0|2002|    9|  9|06:54| $37.50|Swipe Transaction|     La Verne|           CA|91750.0|5411|     No|\n",
            "+----+----+----+-----+---+-----+-------+-----------------+-------------+-------------+-------+----+-------+\n",
            "only showing top 5 rows\n",
            "\n"
          ]
        }
      ]
    },
    {
      "cell_type": "code",
      "source": [
        "simp_data.printSchema()"
      ],
      "metadata": {
        "colab": {
          "base_uri": "https://localhost:8080/"
        },
        "id": "1GnHAU-Vxssu",
        "outputId": "1522fb46-02d3-4479-f4eb-b2218ae81e6d"
      },
      "execution_count": null,
      "outputs": [
        {
          "output_type": "stream",
          "name": "stdout",
          "text": [
            "root\n",
            " |-- User: long (nullable = true)\n",
            " |-- Card: long (nullable = true)\n",
            " |-- Year: long (nullable = true)\n",
            " |-- Month: long (nullable = true)\n",
            " |-- Day: long (nullable = true)\n",
            " |-- Time: string (nullable = true)\n",
            " |-- Amount: string (nullable = true)\n",
            " |-- UseChip: string (nullable = true)\n",
            " |-- MerchantCity: string (nullable = true)\n",
            " |-- MerchantState: string (nullable = true)\n",
            " |-- Zip: double (nullable = true)\n",
            " |-- MCC: long (nullable = true)\n",
            " |-- IsFraud: string (nullable = true)\n",
            "\n"
          ]
        }
      ]
    },
    {
      "cell_type": "code",
      "source": [],
      "metadata": {
        "id": "aY20qMB2N6yd"
      },
      "execution_count": null,
      "outputs": []
    },
    {
      "cell_type": "code",
      "source": [
        "# simp_data.show()\n",
        "simp_data = simp_data.withColumn('Date', F.to_date(F.concat_ws('-', simp_data.Day, simp_data.Month, simp_data.Year), \"d-M-y\"))"
      ],
      "metadata": {
        "id": "40mEJjHLLgWt"
      },
      "execution_count": null,
      "outputs": []
    },
    {
      "cell_type": "code",
      "source": [
        "simp_data.show()"
      ],
      "metadata": {
        "colab": {
          "base_uri": "https://localhost:8080/"
        },
        "id": "cB2nJMC9O02c",
        "outputId": "6b1f0cd0-c7e3-4e6d-d823-816158975432"
      },
      "execution_count": null,
      "outputs": [
        {
          "output_type": "stream",
          "name": "stdout",
          "text": [
            "+----+----+----+-----+---+-----+-------+-----------------+-------------+-------------+-------+----+-------+----------+\n",
            "|User|Card|Year|Month|Day| Time| Amount|          UseChip| MerchantCity|MerchantState|    Zip| MCC|IsFraud|      Date|\n",
            "+----+----+----+-----+---+-----+-------+-----------------+-------------+-------------+-------+----+-------+----------+\n",
            "|   0|   0|2002|    9|  1|06:21|$134.09|Swipe Transaction|     La Verne|           CA|91750.0|5300|     No|2002-09-01|\n",
            "|   0|   0|2002|    9|  3|06:23|$104.71|Swipe Transaction|     La Verne|           CA|91750.0|5912|     No|2002-09-03|\n",
            "|   0|   0|2002|    9|  3|13:53| $86.19|Swipe Transaction|Monterey Park|           CA|91755.0|5970|     No|2002-09-03|\n",
            "|   0|   0|2002|    9|  8|06:38| $27.75|Swipe Transaction|     La Verne|           CA|91750.0|5411|     No|2002-09-08|\n",
            "|   0|   0|2002|    9|  9|06:54| $37.50|Swipe Transaction|     La Verne|           CA|91750.0|5411|     No|2002-09-09|\n",
            "|   0|   0|2002|    9|  9|13:31|  $2.71|Swipe Transaction|     La Verne|           CA|91750.0|5411|     No|2002-09-09|\n",
            "|   0|   0|2002|    9| 10|21:39| $29.33|Swipe Transaction|    Mira Loma|           CA|91752.0|7832|     No|2002-09-10|\n",
            "|   0|   0|2002|    9| 11|06:28|$162.39|Swipe Transaction|     La Verne|           CA|91750.0|5411|     No|2002-09-11|\n",
            "|   0|   0|2002|    9| 11|13:06| $62.06|Swipe Transaction|    Mira Loma|           CA|91752.0|5541|     No|2002-09-11|\n",
            "|   0|   0|2002|    9| 14|13:08| $12.76|Swipe Transaction|     La Verne|           CA|91750.0|5814|     No|2002-09-14|\n",
            "|   0|   0|2002|    9| 17|06:24|$159.72|Swipe Transaction|     La Verne|           CA|91750.0|5912|     No|2002-09-17|\n",
            "|   0|   0|2002|    9| 18|20:01| $92.30|Swipe Transaction|     La Verne|           CA|91750.0|5814|     No|2002-09-18|\n",
            "|   0|   0|2002|    9| 19|06:25|$168.11|Swipe Transaction|     La Verne|           CA|91750.0|5912|     No|2002-09-19|\n",
            "|   0|   0|2002|    9| 19|09:42| $53.09|Swipe Transaction|     La Verne|           CA|91750.0|7538|     No|2002-09-19|\n",
            "|   0|   0|2002|    9| 20|06:17|$119.69|Swipe Transaction|     La Verne|           CA|91750.0|5311|     No|2002-09-20|\n",
            "|   0|   0|2002|    9| 21|06:47| $48.34|Swipe Transaction|Monterey Park|           CA|91755.0|5942|     No|2002-09-21|\n",
            "|   0|   0|2002|    9| 23|06:01|$134.89|Swipe Transaction|     La Verne|           CA|91750.0|5300|     No|2002-09-23|\n",
            "|   0|   0|2002|    9| 25|13:10|$100.00|Swipe Transaction|     La Verne|           CA|91750.0|5499|     No|2002-09-25|\n",
            "|   0|   0|2002|    9| 26|06:25| $93.37|Swipe Transaction|     La Verne|           CA|91750.0|5300|     No|2002-09-26|\n",
            "|   0|   0|2002|    9| 27|06:21|$199.71|Swipe Transaction|Monterey Park|           CA|91754.0|5411|     No|2002-09-27|\n",
            "+----+----+----+-----+---+-----+-------+-----------------+-------------+-------------+-------+----+-------+----------+\n",
            "only showing top 20 rows\n",
            "\n"
          ]
        }
      ]
    },
    {
      "cell_type": "code",
      "source": [
        "agg_data = simp_data.groupBy('User', 'Card')\\\n",
        "                    .agg(\n",
        "                        F.collect_list('Date').alias('Date'),\n",
        "                        F.collect_list('Time').alias('Time'),\n",
        "                        F.collect_list('Amount').alias('Amount'),\n",
        "                        F.collect_list('MCC').alias('MCC')\n",
        "                        )"
      ],
      "metadata": {
        "id": "5lRwjeufwwe7"
      },
      "execution_count": null,
      "outputs": []
    },
    {
      "cell_type": "code",
      "source": [
        "agg_data.show(5)"
      ],
      "metadata": {
        "colab": {
          "base_uri": "https://localhost:8080/"
        },
        "id": "JB5zWresBpID",
        "outputId": "6b661588-2a8d-4551-822d-87b0012bf838"
      },
      "execution_count": null,
      "outputs": [
        {
          "output_type": "stream",
          "name": "stdout",
          "text": [
            "+----+----+--------------------+--------------------+--------------------+--------------------+\n",
            "|User|Card|                Date|                Time|              Amount|                 MCC|\n",
            "+----+----+--------------------+--------------------+--------------------+--------------------+\n",
            "|   0|   1|[2014-04-09, 2014...|[13:53, 06:50, 06...|[$56.29, $19.97, ...|[5719, 5411, 5311...|\n",
            "|   0|   4|[2008-09-29, 2008...|[13:14, 17:42, 11...|[$10.33, $1.62, $...|[5812, 5815, 5499...|\n",
            "|   1|   0|[2003-09-18, 2003...|[10:49, 11:53, 12...|[$60.86, $29.18, ...|[5912, 7349, 7276...|\n",
            "|   1|   1|[2011-02-02, 2011...|[13:20, 22:06, 12...|[$47.64, $120.00,...|[4814, 4829, 4900...|\n",
            "|   1|   3|[2010-06-16, 2010...|[18:28, 10:35, 21...|[$46.62, $12.90, ...|[5912, 7210, 5411...|\n",
            "+----+----+--------------------+--------------------+--------------------+--------------------+\n",
            "only showing top 5 rows\n",
            "\n"
          ]
        }
      ]
    },
    {
      "cell_type": "markdown",
      "source": [
        "Напишите python функцию, которая возьмет данные после агрегации последовательностей, отсортирует их внутри по дате и времени и преобразует к формату python dict:\n",
        "{'User': User,\n",
        "'Card': Card,\n",
        "'sequence':{\n",
        "    'amount': [последовательность],\n",
        "    'year': [последовательность],\n",
        "    'month': [последовательность],\n",
        "    'day': [последовательность],\n",
        "    'time': [последовательность],\n",
        "    'MCC': [последовательность]\n",
        "}\n",
        "}\n",
        "\n",
        "\n",
        "Выведите как пример одну преобразованную запись, результаты сохраните на диск в через rdd pickle"
      ],
      "metadata": {
        "id": "KEOQzkn6fCoj"
      }
    },
    {
      "cell_type": "code",
      "source": [
        "one_dat = agg_data.take(1)"
      ],
      "metadata": {
        "id": "TBQ7Yzl-IdmV"
      },
      "execution_count": null,
      "outputs": []
    },
    {
      "cell_type": "code",
      "source": [
        "def to_dict(rec):\n",
        "    conv_rec = {'User' : rec[0],\n",
        "                'Card' : rec[1],\n",
        "                'sequence' : {\n",
        "                    'date' : sorted(rec[2]),\n",
        "                    'time' : sorted(rec[3]),\n",
        "                    'amount' : rec[4],\n",
        "                    'MCC' : rec[5]\n",
        "                }}\n",
        "\n",
        "    return conv_rec\n",
        "\n",
        "def convert_arr_to_dict(data):\n",
        "    return [to_dict(data[i]) for i in range(len(data))]\n",
        "\n",
        "print(convert_arr_to_dict(one_dat)[0])"
      ],
      "metadata": {
        "id": "9l2AlFITffPD",
        "colab": {
          "base_uri": "https://localhost:8080/"
        },
        "outputId": "00a2492c-7be4-4cea-c978-51fce381e9ca"
      },
      "execution_count": null,
      "outputs": [
        {
          "output_type": "stream",
          "name": "stdout",
          "text": [
            "{'User': 0, 'Card': 1, 'sequence': {'date': [2014, 2014, 2014, 2014, 2014, 2014, 2014, 2014, 2014, 2014, 2014, 2014, 2014, 2014, 2014, 2014, 2014, 2014, 2014, 2014, 2014, 2014, 2014, 2014, 2014, 2014, 2014, 2014, 2014, 2014, 2014, 2014, 2014, 2014, 2014, 2014, 2014, 2014, 2014, 2014, 2014, 2014, 2014, 2014, 2014, 2014, 2014, 2014, 2014, 2014, 2014, 2014, 2014, 2015, 2015, 2015, 2015, 2015, 2015, 2015, 2015, 2015, 2015, 2015, 2015, 2015, 2015, 2015, 2015, 2015, 2015, 2015, 2015, 2015, 2015, 2015, 2015, 2015, 2015, 2015, 2015, 2015, 2015, 2015, 2015, 2015, 2015, 2015, 2015, 2015, 2015, 2015, 2015, 2015, 2015, 2015, 2015, 2015, 2015, 2015, 2015, 2015, 2015, 2015, 2015, 2015, 2015, 2015, 2015, 2015, 2015, 2015, 2015, 2015, 2015, 2015, 2015, 2015, 2015, 2016, 2016, 2016, 2016, 2016, 2016, 2016, 2016, 2016, 2016, 2016, 2016, 2016, 2016, 2016, 2016, 2016, 2016, 2016, 2016, 2016, 2016, 2016, 2016, 2016, 2016, 2016, 2016, 2016, 2016, 2016, 2016, 2016, 2016, 2016, 2016, 2016, 2016, 2016, 2016, 2016, 2016, 2016, 2016, 2016, 2016, 2016, 2016, 2016, 2016, 2016, 2016, 2016, 2016, 2016, 2016, 2016, 2016, 2016, 2016, 2016, 2016, 2016, 2016, 2016, 2016, 2017, 2017, 2017, 2017, 2017, 2017, 2017, 2017, 2017, 2017, 2017, 2017, 2017, 2017, 2017, 2017, 2017, 2017, 2017, 2017, 2017, 2017, 2017, 2017, 2017, 2017, 2017, 2017, 2017, 2017, 2017, 2017, 2017, 2017, 2017, 2017, 2017, 2017, 2017, 2017, 2017, 2017, 2017, 2017, 2017, 2017, 2017, 2017, 2017, 2017, 2017, 2017, 2017, 2017, 2017, 2017, 2017, 2017, 2017, 2017, 2017, 2017, 2018, 2018, 2018, 2018, 2018, 2018, 2018, 2018, 2018, 2018, 2018, 2018, 2018, 2018, 2018, 2018, 2018, 2018, 2018, 2018, 2018, 2018, 2018, 2018, 2018, 2018, 2018, 2018, 2018, 2018, 2018, 2018, 2018, 2018, 2018, 2018, 2018, 2018, 2018, 2018, 2018, 2018, 2018, 2018, 2018, 2018, 2018, 2018, 2018, 2018, 2018, 2018, 2018, 2018, 2018, 2018, 2018, 2018, 2018, 2019, 2019, 2019, 2019, 2019, 2019, 2019, 2019, 2019, 2019, 2019, 2019, 2019, 2019, 2019, 2019, 2019, 2019, 2019, 2019, 2019, 2019, 2019, 2019, 2019, 2019, 2019, 2019, 2019, 2019, 2019, 2019, 2019, 2019, 2019, 2019, 2019, 2019, 2019, 2019, 2019, 2019, 2019, 2019, 2019, 2019, 2019, 2019, 2019, 2020, 2020, 2020, 2020, 2020, 2020, 2020, 2020, 2020], 'time': [1, 1, 1, 1, 1, 1, 1, 1, 1, 1, 1, 1, 1, 1, 1, 1, 1, 1, 1, 1, 1, 1, 1, 1, 1, 1, 1, 1, 1, 2, 2, 2, 2, 2, 2, 2, 2, 2, 2, 2, 2, 2, 2, 2, 2, 2, 2, 2, 2, 2, 2, 3, 3, 3, 3, 3, 3, 3, 3, 3, 3, 3, 3, 3, 3, 3, 3, 3, 3, 3, 3, 3, 3, 3, 3, 3, 3, 3, 4, 4, 4, 4, 4, 4, 4, 4, 4, 4, 4, 4, 4, 4, 4, 4, 4, 4, 4, 4, 4, 4, 4, 4, 4, 4, 4, 4, 4, 4, 4, 4, 4, 4, 4, 4, 5, 5, 5, 5, 5, 5, 5, 5, 5, 5, 5, 5, 5, 5, 5, 5, 5, 5, 5, 5, 5, 5, 5, 5, 5, 5, 5, 5, 5, 6, 6, 6, 6, 6, 6, 6, 6, 6, 6, 6, 6, 6, 6, 6, 6, 6, 6, 6, 6, 6, 6, 6, 6, 6, 6, 6, 6, 6, 6, 6, 6, 7, 7, 7, 7, 7, 7, 7, 7, 7, 7, 7, 7, 7, 7, 7, 7, 7, 7, 7, 7, 7, 7, 7, 7, 7, 7, 7, 7, 7, 7, 7, 8, 8, 8, 8, 8, 8, 8, 8, 8, 8, 8, 8, 8, 8, 8, 8, 8, 8, 8, 8, 8, 8, 8, 8, 8, 8, 9, 9, 9, 9, 9, 9, 9, 9, 9, 9, 9, 9, 9, 9, 9, 9, 9, 9, 9, 9, 9, 9, 9, 9, 9, 9, 9, 9, 9, 9, 9, 9, 10, 10, 10, 10, 10, 10, 10, 10, 10, 10, 10, 10, 10, 10, 10, 10, 10, 10, 10, 10, 10, 10, 10, 10, 10, 10, 10, 10, 10, 10, 10, 10, 10, 10, 10, 10, 10, 11, 11, 11, 11, 11, 11, 11, 11, 11, 11, 11, 11, 11, 11, 11, 11, 11, 11, 11, 11, 11, 11, 11, 11, 11, 11, 11, 11, 11, 11, 11, 12, 12, 12, 12, 12, 12, 12, 12, 12, 12, 12, 12, 12, 12, 12, 12, 12, 12, 12, 12, 12, 12, 12, 12, 12, 12, 12, 12, 12, 12, 12, 12], 'amount': [9, 16, 18, 24, 25, 29, 6, 6, 10, 17, 21, 21, 1, 1, 5, 16, 18, 25, 26, 5, 5, 5, 25, 29, 9, 18, 31, 4, 7, 15, 20, 22, 1, 7, 8, 10, 19, 21, 26, 26, 27, 1, 12, 14, 15, 15, 25, 1, 2, 13, 20, 30, 31, 4, 7, 8, 12, 14, 16, 16, 24, 26, 15, 22, 22, 1, 28, 30, 31, 4, 6, 15, 27, 23, 24, 30, 2, 13, 22, 19, 31, 4, 8, 8, 12, 13, 17, 22, 24, 4, 8, 10, 17, 20, 22, 27, 27, 2, 3, 4, 5, 9, 14, 18, 20, 2, 3, 12, 15, 20, 23, 29, 30, 30, 1, 9, 10, 14, 25, 1, 3, 3, 5, 8, 13, 20, 26, 7, 11, 5, 7, 10, 11, 12, 14, 15, 17, 21, 23, 1, 3, 5, 6, 7, 12, 12, 12, 12, 17, 27, 29, 5, 7, 1, 5, 17, 19, 21, 4, 5, 18, 22, 29, 4, 6, 14, 31, 6, 7, 7, 7, 14, 21, 23, 28, 1, 7, 9, 10, 13, 18, 23, 1, 10, 10, 2, 1, 5, 6, 7, 15, 8, 9, 25, 29, 30, 7, 14, 16, 18, 21, 26, 2, 14, 15, 18, 28, 29, 30, 4, 18, 23, 26, 27, 29, 5, 7, 19, 25, 26, 29, 5, 23, 31, 11, 22, 22, 3, 8, 16, 17, 22, 24, 31, 31, 11, 24, 29, 14, 16, 17, 22, 23, 25, 26, 27, 31, 5, 27, 2, 3, 5, 9, 23, 4, 7, 20, 20, 27, 16, 2, 9, 11, 17, 17, 4, 4, 4, 24, 27, 30, 3, 4, 4, 11, 13, 14, 16, 18, 22, 29, 13, 29, 31, 7, 9, 10, 14, 18, 20, 22, 28, 1, 10, 10, 12, 26, 29, 11, 20, 24, 2, 5, 9, 12, 14, 4, 9, 11, 31, 3, 21, 23, 2, 5, 6, 3, 5, 13, 19, 26, 29, 30, 16, 18, 19, 21, 29, 31, 9, 15, 17, 23, 30, 1, 23, 29, 3, 13, 20, 23, 29, 13, 15, 2, 18, 21, 22, 5, 11, 23, 7, 11, 11, 19, 2, 4, 16, 21, 26, 17, 22, 25, 26], 'MCC': ['13:53', '06:50', '06:09', '17:13', '20:58', '06:53', '06:46', '19:08', '09:45', '06:01', '13:07', '13:27', '06:16', '13:52', '06:41', '07:54', '06:01', '14:26', '17:22', '06:14', '13:14', '13:17', '16:56', '06:05', '13:25', '06:53', '16:52', '17:38', '13:03', '06:09', '16:36', '14:14', '16:27', '06:33', '13:18', '06:19', '14:14', '14:11', '06:02', '06:47', '09:44', '20:49', '19:28', '20:21', '13:16', '13:25', '06:25', '13:50', '13:07', '07:16', '20:26', '06:01', '09:47', '07:14', '13:11', '13:01', '22:16', '13:53', '13:38', '16:39', '13:26', '06:18', '06:26', '06:47', '17:57', '06:43', '20:05', '06:03', '06:12', '06:21', '09:41', '06:38', '05:48', '21:44', '20:52', '13:14', '06:16', '13:25', '06:12', '06:08', '20:19', '06:13', '13:12', '13:26', '13:19', '13:19', '13:47', '12:02', '06:04', '06:12', '06:03', '11:47', '21:31', '06:46', '13:14', '09:56', '16:34', '21:17', '10:16', '07:13', '16:58', '06:01', '06:21', '06:24', '09:49', '13:23', '06:09', '13:36', '13:48', '20:21', '13:04', '06:37', '10:41', '11:59', '06:46', '21:58', '20:14', '13:51', '12:40', '06:08', '06:00', '20:14', '06:16', '13:46', '09:43', '06:17', '06:59', '11:10', '07:00', '06:16', '05:43', '07:21', '06:01', '10:34', '09:03', '10:31', '06:23', '05:57', '13:02', '11:52', '06:40', '13:14', '06:37', '20:56', '11:48', '13:06', '13:17', '13:24', '06:52', '16:20', '13:55', '13:22', '06:04', '05:32', '06:11', '20:19', '06:09', '14:52', '14:32', '06:08', '06:09', '09:32', '13:26', '20:23', '09:57', '08:14', '06:24', '05:53', '05:31', '06:42', '10:15', '06:36', '06:59', '06:13', '13:25', '06:36', '06:42', '14:22', '20:11', '06:55', '09:29', '06:02', '05:51', '13:21', '13:23', '14:25', '17:43', '05:03', '13:34', '13:33', '06:36', '06:13', '06:08', '13:17', '20:09', '06:32', '06:53', '13:03', '06:45', '21:07', '13:59', '06:04', '14:49', '09:50', '10:49', '06:53', '14:16', '17:54', '20:17', '06:16', '06:18', '14:06', '06:25', '20:29', '06:19', '20:12', '16:45', '20:16', '10:08', '03:42', '17:59', '09:52', '06:45', '05:39', '21:49', '13:24', '13:25', '09:00', '06:41', '06:21', '20:15', '05:48', '06:43', '13:46', '13:57', '00:29', '13:29', '06:30', '06:03', '20:11', '13:33', '10:48', '17:56', '06:21', '06:59', '06:26', '06:17', '06:55', '06:30', '14:25', '05:41', '06:20', '10:03', '06:02', '08:36', '06:44', '13:01', '13:27', '21:08', '21:25', '11:43', '07:04', '06:51', '09:54', '12:57', '06:10', '10:50', '13:57', '20:01', '16:57', '13:10', '07:17', '06:20', '11:20', '07:34', '06:48', '06:18', '06:20', '06:47', '06:32', '06:56', '19:00', '13:44', '13:45', '13:50', '06:35', '10:47', '07:16', '09:20', '06:09', '06:57', '10:59', '06:00', '06:29', '13:37', '14:04', '06:07', '20:28', '06:36', '16:57', '06:32', '13:05', '07:16', '06:01', '20:57', '06:50', '06:17', '20:39', '11:59', '06:45', '06:46', '06:08', '14:08', '06:24', '06:06', '20:18', '13:24', '06:45', '20:09', '11:31', '10:30', '13:48', '12:47', '13:55', '06:17', '06:15', '06:11', '06:47', '06:38', '13:02', '13:39', '06:38', '10:14', '05:50', '10:26', '13:45', '07:16', '09:56', '07:14', '19:47', '06:57', '06:58', '09:44', '06:20', '00:18', '06:26', '06:35', '18:47', '13:34', '06:47', '10:33', '07:02', '13:02', '16:41', '06:25', '09:56', '06:49', '13:32', '06:22', '06:20', '06:13', '20:26', '05:29', '20:46']}}\n"
          ]
        }
      ]
    }
  ]
}