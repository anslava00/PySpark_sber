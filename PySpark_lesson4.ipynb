{
  "nbformat": 4,
  "nbformat_minor": 0,
  "metadata": {
    "colab": {
      "provenance": [],
      "authorship_tag": "ABX9TyNo5o1zC2GW/3Mig+mclPz0",
      "include_colab_link": true
    },
    "kernelspec": {
      "name": "python3",
      "display_name": "Python 3"
    },
    "language_info": {
      "name": "python"
    }
  },
  "cells": [
    {
      "cell_type": "markdown",
      "metadata": {
        "id": "view-in-github",
        "colab_type": "text"
      },
      "source": [
        "<a href=\"https://colab.research.google.com/github/anslava00/PySpark_sber/blob/main/PySpark_lesson4.ipynb\" target=\"_parent\"><img src=\"https://colab.research.google.com/assets/colab-badge.svg\" alt=\"Open In Colab\"/></a>"
      ]
    },
    {
      "cell_type": "code",
      "execution_count": null,
      "metadata": {
        "id": "nxpX3Nto5T1E",
        "colab": {
          "base_uri": "https://localhost:8080/"
        },
        "outputId": "e7e362fd-c9f0-4656-9447-42ea2b56a013"
      },
      "outputs": [
        {
          "output_type": "stream",
          "name": "stdout",
          "text": [
            "Looking in indexes: https://pypi.org/simple, https://us-python.pkg.dev/colab-wheels/public/simple/\n",
            "Requirement already satisfied: pyspark in /usr/local/lib/python3.8/dist-packages (3.3.2)\n",
            "Requirement already satisfied: findspark in /usr/local/lib/python3.8/dist-packages (2.0.1)\n",
            "Requirement already satisfied: py4j==0.10.9.5 in /usr/local/lib/python3.8/dist-packages (from pyspark) (0.10.9.5)\n"
          ]
        }
      ],
      "source": [
        "!pip install pyspark findspark"
      ]
    },
    {
      "cell_type": "code",
      "source": [
        "from pyspark.sql import SparkSession\n",
        "from pyspark import SparkContext, SparkConf\n",
        "import pyspark.sql.functions as F\n",
        "\n",
        "conf = SparkConf().set('spark.ui.port', '4050').set('spark.serializer', 'org.apache.spark.serializer.KryoSerializer')\\\n",
        "                  .set('spark.dynamicAllocation.enabled', 'true')\\\n",
        "                  .set('spark.shuffle.service.enabled', 'true') #трекер, чтобы возвращать ресурсы\n",
        "sc = SparkContext(conf=conf)\n",
        "spark = SparkSession.builder.master('local[*]').getOrCreate()"
      ],
      "metadata": {
        "id": "sb1p8qXERU7h"
      },
      "execution_count": null,
      "outputs": []
    },
    {
      "cell_type": "code",
      "source": [
        "from google.colab import drive\n",
        "drive.mount('/content/drive')\n",
        "google_drive = '/content/drive/MyDrive/Colab_Notebooks/'"
      ],
      "metadata": {
        "colab": {
          "base_uri": "https://localhost:8080/"
        },
        "id": "jYyBsAdoTLG6",
        "outputId": "0ec91c1d-ec33-4c46-c48c-35ba9c2c0a65"
      },
      "execution_count": null,
      "outputs": [
        {
          "output_type": "stream",
          "name": "stdout",
          "text": [
            "Drive already mounted at /content/drive; to attempt to forcibly remount, call drive.mount(\"/content/drive\", force_remount=True).\n"
          ]
        }
      ]
    },
    {
      "cell_type": "code",
      "source": [
        "data = spark.read.csv(google_drive + 'Train_Set_90621.csv',  header=True, inferSchema=True).drop(F.col('Amount Defaulted'))"
      ],
      "metadata": {
        "id": "4YzBrLbdRWRa"
      },
      "execution_count": null,
      "outputs": []
    },
    {
      "cell_type": "code",
      "source": [
        "data.count()"
      ],
      "metadata": {
        "colab": {
          "base_uri": "https://localhost:8080/"
        },
        "id": "SELqAUemSWam",
        "outputId": "ee0d6c88-acd0-452a-b9d6-70fbca2614f6"
      },
      "execution_count": null,
      "outputs": [
        {
          "output_type": "execute_result",
          "data": {
            "text/plain": [
              "195118"
            ]
          },
          "metadata": {},
          "execution_count": 5
        }
      ]
    },
    {
      "cell_type": "code",
      "source": [
        "data.show(3)"
      ],
      "metadata": {
        "colab": {
          "base_uri": "https://localhost:8080/"
        },
        "id": "r1_b81DDRtsQ",
        "outputId": "04329780-768a-486d-96df-e29741645805"
      },
      "execution_count": null,
      "outputs": [
        {
          "output_type": "stream",
          "name": "stdout",
          "text": [
            "+--------------+--------------+---------+------------------+--------------------+--------------------+---------------------------+-------------+------------+----+-------------+-------------+---------+----------------------+----------+-------------+------------------------------+-----------------------+----------------------------+------------------+-------------------+-------------+--------------+--------------------+------------------+------------+-------------------+--------------+\n",
            "|Application ID|   Bank Masked|Bank Type|Approved_Timestamp|         Name Masked|Business Owner State|Business_Industry_Type_Code|Approved_Year|New Business|Term|    BankState|Interest Rate|Employees|Gross Disbursed Amount|Term_years|Jobs Retained|Male to Female Employees Ratio|Expected Company Income|Funds available with company|Gross_Apprv_Amount|Company Branch Code|City or Rural|Jobs Generated|Carry-forward Credit|Documents Provided|Balance Left|Final_Appved_Amount|Default_Status|\n",
            "+--------------+--------------+---------+------------------+--------------------+--------------------+---------------------------+-------------+------------+----+-------------+-------------+---------+----------------------+----------+-------------+------------------------------+-----------------------+----------------------------+------------------+-------------------+-------------+--------------+--------------------+------------------+------------+-------------------+--------------+\n",
            "|    1020200001| Bank_Name_316|  Private|        12-10-2005| Business_Name_10007|       Uttar Pradesh|                     525161|         2005|           1| 219|Uttar Pradesh|            3|       42|              18550000|        18|           18|                             4|                3500000|                      780590|          18550000|              25650|            1|             3|                   N|                 N|           0|           13912500|             0|\n",
            "|    1020200002|Bank_Name_1062|     Govt|        21-11-2006|Business_Name_130906|       Uttar Pradesh|                       1231|         2006|           1|  71|Uttar Pradesh|            5|       20|               3045000|         6|           10|                            16|                1666667|                     1835637|           2450000|                  0|            1|             0|                   Y|                 N|           0|            1225000|             1|\n",
            "|    1020200003|  Bank_Name_39|  Private|        28-11-2007|Business_Name_105953|       Uttar Pradesh|                     322442|         2007|           2|  84|  Maharashtra|            8|       16|               1750000|         7|           10|                             8|                1333333|                     2373333|           1750000|                  0|            2|             2|                   Y|                 N|           0|            1487500|             0|\n",
            "+--------------+--------------+---------+------------------+--------------------+--------------------+---------------------------+-------------+------------+----+-------------+-------------+---------+----------------------+----------+-------------+------------------------------+-----------------------+----------------------------+------------------+-------------------+-------------+--------------+--------------------+------------------+------------+-------------------+--------------+\n",
            "only showing top 3 rows\n",
            "\n"
          ]
        }
      ]
    },
    {
      "cell_type": "code",
      "source": [
        "data.describe().show()"
      ],
      "metadata": {
        "colab": {
          "base_uri": "https://localhost:8080/"
        },
        "id": "EaPB4Z9bSc5a",
        "outputId": "b5438d7a-942c-4ef3-d4c8-9a5454fb6b23"
      },
      "execution_count": null,
      "outputs": [
        {
          "output_type": "stream",
          "name": "stdout",
          "text": [
            "+-------+-----------------+---------------+---------+------------------+-------------------+--------------------+---------------------------+-----------------+-------------------+------------------+-----------+------------------+------------------+----------------------+-----------------+------------------+------------------------------+-----------------------+----------------------------+--------------------+-------------------+------------------+-----------------+--------------------+------------------+----------------+--------------------+-------------------+\n",
            "|summary|   Application ID|    Bank Masked|Bank Type|Approved_Timestamp|        Name Masked|Business Owner State|Business_Industry_Type_Code|    Approved_Year|       New Business|              Term|  BankState|     Interest Rate|         Employees|Gross Disbursed Amount|       Term_years|     Jobs Retained|Male to Female Employees Ratio|Expected Company Income|Funds available with company|  Gross_Apprv_Amount|Company Branch Code|     City or Rural|   Jobs Generated|Carry-forward Credit|Documents Provided|    Balance Left| Final_Appved_Amount|     Default_Status|\n",
            "+-------+-----------------+---------------+---------+------------------+-------------------+--------------------+---------------------------+-----------------+-------------------+------------------+-----------+------------------+------------------+----------------------+-----------------+------------------+------------------------------+-----------------------+----------------------------+--------------------+-------------------+------------------+-----------------+--------------------+------------------+----------------+--------------------+-------------------+\n",
            "|  count|           195118|         195038|   195038|            194692|             195117|              195115|                     195118|           195118|             195082|            195118|     195037|            195118|            195118|                195118|           195118|            195118|                        195118|                 195115|                      195118|              195118|             195118|            195118|           195118|              194140|            194566|          195118|              195118|             195118|\n",
            "|   mean|   1.0202975595E9|           null|     null|              null|               null|                null|          399104.7059881713|2008.122751360715| 1.2793030623020063|110.73985998216465|        0.0| 7.327914390266403|19.122981990385306|   1.414491644937935E7|9.245461720599842|11.418362221834991|             15.32921104152359|   1.8325220522256106E7|           1253178.777488494|1.3565614745999856E7|  2812.721501860413|0.7546971576174417|9.055151241812647|                null|              null|9.18418597976609| 1.052897772045634E7|0.18059840711774414|\n",
            "| stddev|56325.85924925306|           null|     null|              null|               null|                null|          263815.8896713594|6.256458086968012|0.45111900679753403|  78.8517723449654|        0.0|2.9777137747977767|130.03260689491412|  2.0299306581284177E7|6.569698906552672|248.74419770593946|             11.79194668211102|     1.75906858249903E8|           645567.0835725025|1.9969551972906575E7| 12897.919612614003|0.6469141971067709|248.3170371124524|                null|              null|3962.91144972547|1.6101767759185921E7|0.38468608097312673|\n",
            "|    min|       1020200001|    Bank_Name_1|     Govt|        01-01-2001|    Business_Name_1|               Delhi|                       1230|             1900|                  0|                 0|          0|                 2|                 0|                     0|                0|                 0|                             1|                      0|                      100002|               14000|                  0|                 0|                0|                   N|                 N|               0|                7000|                  0|\n",
            "|    max|       1020395118|Bank_Number_999|  Private|        31-12-2016|Business_Name_99999|         Uttarakhand|                     929351|             2017|                  2|               461|Uttarakhand|                12|             22222|             732550000|               38|              8800|                            50|            43200000000|                     2500000|           350000000|              92000|                 2|             8800|                   Y|                 Y|         1750000|           315000000|                  1|\n",
            "+-------+-----------------+---------------+---------+------------------+-------------------+--------------------+---------------------------+-----------------+-------------------+------------------+-----------+------------------+------------------+----------------------+-----------------+------------------+------------------------------+-----------------------+----------------------------+--------------------+-------------------+------------------+-----------------+--------------------+------------------+----------------+--------------------+-------------------+\n",
            "\n"
          ]
        }
      ]
    },
    {
      "cell_type": "code",
      "source": [
        "print(len(data.columns))\n",
        "data.printSchema()"
      ],
      "metadata": {
        "colab": {
          "base_uri": "https://localhost:8080/"
        },
        "id": "5RYJbOJyTfPo",
        "outputId": "14ba0598-987d-4bda-b665-10472724114c"
      },
      "execution_count": null,
      "outputs": [
        {
          "output_type": "stream",
          "name": "stdout",
          "text": [
            "28\n",
            "root\n",
            " |-- Application ID: integer (nullable = true)\n",
            " |-- Bank Masked: string (nullable = true)\n",
            " |-- Bank Type: string (nullable = true)\n",
            " |-- Approved_Timestamp: string (nullable = true)\n",
            " |-- Name Masked: string (nullable = true)\n",
            " |-- Business Owner State: string (nullable = true)\n",
            " |-- Business_Industry_Type_Code: integer (nullable = true)\n",
            " |-- Approved_Year: integer (nullable = true)\n",
            " |-- New Business: integer (nullable = true)\n",
            " |-- Term: integer (nullable = true)\n",
            " |-- BankState: string (nullable = true)\n",
            " |-- Interest Rate: integer (nullable = true)\n",
            " |-- Employees: integer (nullable = true)\n",
            " |-- Gross Disbursed Amount: integer (nullable = true)\n",
            " |-- Term_years: integer (nullable = true)\n",
            " |-- Jobs Retained: integer (nullable = true)\n",
            " |-- Male to Female Employees Ratio: integer (nullable = true)\n",
            " |-- Expected Company Income: long (nullable = true)\n",
            " |-- Funds available with company: integer (nullable = true)\n",
            " |-- Gross_Apprv_Amount: integer (nullable = true)\n",
            " |-- Company Branch Code: integer (nullable = true)\n",
            " |-- City or Rural: integer (nullable = true)\n",
            " |-- Jobs Generated: integer (nullable = true)\n",
            " |-- Carry-forward Credit: string (nullable = true)\n",
            " |-- Documents Provided: string (nullable = true)\n",
            " |-- Balance Left: integer (nullable = true)\n",
            " |-- Final_Appved_Amount: integer (nullable = true)\n",
            " |-- Default_Status: integer (nullable = true)\n",
            "\n"
          ]
        }
      ]
    },
    {
      "cell_type": "code",
      "source": [
        "def check_nan(data):\n",
        "    data.select([F.count(F.when(F.isnan(c) | F.col(c).isNull(), c)).alias(c) for c in data.columns]).show()"
      ],
      "metadata": {
        "id": "YrXXAr_1UAE9"
      },
      "execution_count": null,
      "outputs": []
    },
    {
      "cell_type": "code",
      "source": [
        "data_not_nan = data.dropna()\n",
        "check_nan(data_not_nan)"
      ],
      "metadata": {
        "colab": {
          "base_uri": "https://localhost:8080/"
        },
        "id": "lK7VdahiUcMy",
        "outputId": "d94db401-49ca-4ea7-8e13-5a1cf79f20d6"
      },
      "execution_count": null,
      "outputs": [
        {
          "output_type": "stream",
          "name": "stdout",
          "text": [
            "+--------------+-----------+---------+------------------+-----------+--------------------+---------------------------+-------------+------------+----+---------+-------------+---------+----------------------+----------+-------------+------------------------------+-----------------------+----------------------------+------------------+-------------------+-------------+--------------+--------------------+------------------+------------+-------------------+--------------+\n",
            "|Application ID|Bank Masked|Bank Type|Approved_Timestamp|Name Masked|Business Owner State|Business_Industry_Type_Code|Approved_Year|New Business|Term|BankState|Interest Rate|Employees|Gross Disbursed Amount|Term_years|Jobs Retained|Male to Female Employees Ratio|Expected Company Income|Funds available with company|Gross_Apprv_Amount|Company Branch Code|City or Rural|Jobs Generated|Carry-forward Credit|Documents Provided|Balance Left|Final_Appved_Amount|Default_Status|\n",
            "+--------------+-----------+---------+------------------+-----------+--------------------+---------------------------+-------------+------------+----+---------+-------------+---------+----------------------+----------+-------------+------------------------------+-----------------------+----------------------------+------------------+-------------------+-------------+--------------+--------------------+------------------+------------+-------------------+--------------+\n",
            "|             0|          0|        0|                 0|          0|                   0|                          0|            0|           0|   0|        0|            0|        0|                     0|         0|            0|                             0|                      0|                           0|                 0|                  0|            0|             0|                   0|                 0|           0|                  0|             0|\n",
            "+--------------+-----------+---------+------------------+-----------+--------------------+---------------------------+-------------+------------+----+---------+-------------+---------+----------------------+----------+-------------+------------------------------+-----------------------+----------------------------+------------------+-------------------+-------------+--------------+--------------------+------------------+------------+-------------------+--------------+\n",
            "\n"
          ]
        }
      ]
    },
    {
      "cell_type": "code",
      "source": [
        "print(data.count())\n",
        "print(data_not_nan.count()) "
      ],
      "metadata": {
        "colab": {
          "base_uri": "https://localhost:8080/"
        },
        "id": "nmcWPJexVnQc",
        "outputId": "2a813206-b178-46da-86d3-2bb389b1a01f"
      },
      "execution_count": null,
      "outputs": [
        {
          "output_type": "stream",
          "name": "stdout",
          "text": [
            "195118\n",
            "193042\n"
          ]
        }
      ]
    },
    {
      "cell_type": "code",
      "source": [
        "data_not_nan.select(F.col('Default_Status'))\\\n",
        "    .groupBy('Default_Status')\\\n",
        "    .count()\\\n",
        "    .withColumn('count', F.col('count'))\\\n",
        "    .show()"
      ],
      "metadata": {
        "colab": {
          "base_uri": "https://localhost:8080/"
        },
        "id": "FdvpVv59V8ww",
        "outputId": "276392f0-d312-49d0-bc2a-38d1f9b4620a"
      },
      "execution_count": null,
      "outputs": [
        {
          "output_type": "stream",
          "name": "stdout",
          "text": [
            "+--------------+------+\n",
            "|Default_Status| count|\n",
            "+--------------+------+\n",
            "|             1| 34869|\n",
            "|             0|158173|\n",
            "+--------------+------+\n",
            "\n"
          ]
        }
      ]
    },
    {
      "cell_type": "code",
      "source": [
        "data_not_nan.show(10)"
      ],
      "metadata": {
        "colab": {
          "base_uri": "https://localhost:8080/"
        },
        "id": "4IG6oeo0YFrp",
        "outputId": "91911554-6d0d-4990-db51-d6b4b973e145"
      },
      "execution_count": null,
      "outputs": [
        {
          "output_type": "stream",
          "name": "stdout",
          "text": [
            "+--------------+---------------+---------+------------------+--------------------+--------------------+---------------------------+-------------+------------+----+-------------+-------------+---------+----------------------+----------+-------------+------------------------------+-----------------------+----------------------------+------------------+-------------------+-------------+--------------+--------------------+------------------+------------+-------------------+--------------+\n",
            "|Application ID|    Bank Masked|Bank Type|Approved_Timestamp|         Name Masked|Business Owner State|Business_Industry_Type_Code|Approved_Year|New Business|Term|    BankState|Interest Rate|Employees|Gross Disbursed Amount|Term_years|Jobs Retained|Male to Female Employees Ratio|Expected Company Income|Funds available with company|Gross_Apprv_Amount|Company Branch Code|City or Rural|Jobs Generated|Carry-forward Credit|Documents Provided|Balance Left|Final_Appved_Amount|Default_Status|\n",
            "+--------------+---------------+---------+------------------+--------------------+--------------------+---------------------------+-------------+------------+----+-------------+-------------+---------+----------------------+----------+-------------+------------------------------+-----------------------+----------------------------+------------------+-------------------+-------------+--------------+--------------------+------------------+------------+-------------------+--------------+\n",
            "|    1020200001|  Bank_Name_316|  Private|        12-10-2005| Business_Name_10007|       Uttar Pradesh|                     525161|         2005|           1| 219|Uttar Pradesh|            3|       42|              18550000|        18|           18|                             4|                3500000|                      780590|          18550000|              25650|            1|             3|                   N|                 N|           0|           13912500|             0|\n",
            "|    1020200002| Bank_Name_1062|     Govt|        21-11-2006|Business_Name_130906|       Uttar Pradesh|                       1231|         2006|           1|  71|Uttar Pradesh|            5|       20|               3045000|         6|           10|                            16|                1666667|                     1835637|           2450000|                  0|            1|             0|                   Y|                 N|           0|            1225000|             1|\n",
            "|    1020200003|   Bank_Name_39|  Private|        28-11-2007|Business_Name_105953|       Uttar Pradesh|                     322442|         2007|           2|  84|  Maharashtra|            8|       16|               1750000|         7|           10|                             8|                1333333|                     2373333|           1750000|                  0|            2|             2|                   Y|                 N|           0|            1487500|             0|\n",
            "|    1020200004|    Bank_Name_3|     Govt|        18-04-2009|Business_Name_103197|              Kerala|                       1231|         2009|           1| 300|        Delhi|            8|        4|              38850000|        25|            2|                             6|                 333333|                     2346786|          38850000|                  1|            1|             0|                   N|                 N|           0|           29137500|             0|\n",
            "|    1020200005|  Bank_Name_126|     Govt|        23-11-2002|Business_Name_118932|               Delhi|                       1231|         2002|           2| 153|  Maharashtra|           11|        4|               2800000|        13|            0|                             8|                 333333|                     2382995|           2800000|                  1|            2|             0|                   N|                 Y|           0|            2380000|             0|\n",
            "|    1020200006| Bank_Name_1281|  Private|        23-12-2009|Business_Name_135212|         Maharashtra|                     239391|         2009|           1|  84|  Maharashtra|            6|       10|              10500000|         7|            0|                            16|                 833333|                      392186|          10500000|                  1|            2|             0|                   N|                 Y|           0|            7875000|             0|\n",
            "|    1020200007|   Bank_Name_33|  Private|        04-10-2009| Business_Name_60742|               Delhi|                     423561|         2009|           2|  60|        Delhi|            6|        2|               2310000|         5|            0|                             9|                 166667|                     2496022|           2310000|                  1|            0|             0|                   N|                 Y|           0|            1848000|             0|\n",
            "|    1020200008|   Bank_Name_33|  Private|        03-03-2006| Business_Name_99424|       Uttar Pradesh|                     443530|         2006|           1|  60|        Delhi|            6|        6|               3500000|         5|            2|                             5|                 500000|                     1525676|           3500000|                  1|            0|             0|                   N|                 N|           0|            1750000|             0|\n",
            "|    1020200009|Bank_Name_12778|     Govt|        03-08-2017|Business_Name_146709|             Haryana|                       1231|         2017|           2|  73|      Haryana|            5|        2|               4900000|         6|            0|                            10|                 166667|                     2358557|           4900000|                  1|            0|             0|                   N|                 Y|           0|            3920000|             0|\n",
            "|    1020200010|   Bank_Name_17|  Private|        20-06-2017| Business_Name_17874|         Maharashtra|                     542341|         2017|           1| 120|        Delhi|           12|       60|              42000000|        10|            0|                            10|                5000000|                     1186740|          42000000|                  1|            0|             0|                   N|                 N|           0|           31500000|             0|\n",
            "+--------------+---------------+---------+------------------+--------------------+--------------------+---------------------------+-------------+------------+----+-------------+-------------+---------+----------------------+----------+-------------+------------------------------+-----------------------+----------------------------+------------------+-------------------+-------------+--------------+--------------------+------------------+------------+-------------------+--------------+\n",
            "only showing top 10 rows\n",
            "\n"
          ]
        }
      ]
    },
    {
      "cell_type": "code",
      "source": [
        "data_not_nan.show(3)"
      ],
      "metadata": {
        "colab": {
          "base_uri": "https://localhost:8080/"
        },
        "id": "Z0O39ckgYefQ",
        "outputId": "b00f129a-8600-4a69-eaf9-a001226e6aa9"
      },
      "execution_count": null,
      "outputs": [
        {
          "output_type": "stream",
          "name": "stdout",
          "text": [
            "+--------------+--------------+---------+------------------+--------------------+--------------------+---------------------------+-------------+------------+----+-------------+-------------+---------+----------------------+----------+-------------+------------------------------+-----------------------+----------------------------+------------------+-------------------+-------------+--------------+--------------------+------------------+------------+-------------------+--------------+\n",
            "|Application ID|   Bank Masked|Bank Type|Approved_Timestamp|         Name Masked|Business Owner State|Business_Industry_Type_Code|Approved_Year|New Business|Term|    BankState|Interest Rate|Employees|Gross Disbursed Amount|Term_years|Jobs Retained|Male to Female Employees Ratio|Expected Company Income|Funds available with company|Gross_Apprv_Amount|Company Branch Code|City or Rural|Jobs Generated|Carry-forward Credit|Documents Provided|Balance Left|Final_Appved_Amount|Default_Status|\n",
            "+--------------+--------------+---------+------------------+--------------------+--------------------+---------------------------+-------------+------------+----+-------------+-------------+---------+----------------------+----------+-------------+------------------------------+-----------------------+----------------------------+------------------+-------------------+-------------+--------------+--------------------+------------------+------------+-------------------+--------------+\n",
            "|    1020200001| Bank_Name_316|  Private|        12-10-2005| Business_Name_10007|       Uttar Pradesh|                     525161|         2005|           1| 219|Uttar Pradesh|            3|       42|              18550000|        18|           18|                             4|                3500000|                      780590|          18550000|              25650|            1|             3|                   N|                 N|           0|           13912500|             0|\n",
            "|    1020200002|Bank_Name_1062|     Govt|        21-11-2006|Business_Name_130906|       Uttar Pradesh|                       1231|         2006|           1|  71|Uttar Pradesh|            5|       20|               3045000|         6|           10|                            16|                1666667|                     1835637|           2450000|                  0|            1|             0|                   Y|                 N|           0|            1225000|             1|\n",
            "|    1020200003|  Bank_Name_39|  Private|        28-11-2007|Business_Name_105953|       Uttar Pradesh|                     322442|         2007|           2|  84|  Maharashtra|            8|       16|               1750000|         7|           10|                             8|                1333333|                     2373333|           1750000|                  0|            2|             2|                   Y|                 N|           0|            1487500|             0|\n",
            "+--------------+--------------+---------+------------------+--------------------+--------------------+---------------------------+-------------+------------+----+-------------+-------------+---------+----------------------+----------+-------------+------------------------------+-----------------------+----------------------------+------------------+-------------------+-------------+--------------+--------------------+------------------+------------+-------------------+--------------+\n",
            "only showing top 3 rows\n",
            "\n"
          ]
        }
      ]
    },
    {
      "cell_type": "code",
      "source": [
        "def count_cat(col):\n",
        "    data_not_nan.select(F.col(col))\\\n",
        "        .groupBy(col)\\\n",
        "        .count()\\\n",
        "        .withColumn('count', F.col('count'))\\\n",
        "        .show()\n",
        "def count_cat_val(col):\n",
        "    return data_not_nan.select(F.col(col))\\\n",
        "        .groupBy(col)\\\n",
        "        .count()\\\n",
        "        .withColumn('count', F.col('count'))\\\n",
        "        .count()"
      ],
      "metadata": {
        "id": "JFgddRkuXxwS"
      },
      "execution_count": null,
      "outputs": []
    },
    {
      "cell_type": "code",
      "source": [
        "cat_col = ['Bank Masked', 'Bank Type', 'Name Masked', 'Business Owner State', 'BankState', 'Carry-forward Credit', 'Documents Provided']"
      ],
      "metadata": {
        "id": "wKX1B7xiakbK"
      },
      "execution_count": null,
      "outputs": []
    },
    {
      "cell_type": "code",
      "source": [
        "for col in cat_col:\n",
        "    count_cat(col)"
      ],
      "metadata": {
        "colab": {
          "base_uri": "https://localhost:8080/"
        },
        "id": "FunSW-NAZIV1",
        "outputId": "2092c182-53f2-41f9-99c1-4f83767d602f"
      },
      "execution_count": null,
      "outputs": [
        {
          "output_type": "stream",
          "name": "stdout",
          "text": [
            "+----------------+-----+\n",
            "|     Bank Masked|count|\n",
            "+----------------+-----+\n",
            "|  Bank_Name_1909|    3|\n",
            "| Bank_Name_51514|    1|\n",
            "| Bank_Name_27474|    1|\n",
            "|  Bank_Name_1658|   18|\n",
            "|   Bank_Name_697|   27|\n",
            "|   Bank_Name_806|   12|\n",
            "|  Bank_Name_3559|    2|\n",
            "|Bank_Number_2607|    2|\n",
            "|   Bank_Name_671|    6|\n",
            "| Bank_Name_17580|    1|\n",
            "|   Bank_Name_153|   65|\n",
            "| Bank_Name_24264|    1|\n",
            "| Bank_Number_530|    8|\n",
            "| Bank_Name_47837|    1|\n",
            "|   Bank_Name_674|   36|\n",
            "|  Bank_Name_9004|    1|\n",
            "| Bank_Number_347|    4|\n",
            "|  Bank_Name_8683|    1|\n",
            "| Bank_Name_33843|    1|\n",
            "| Bank_Name_43255|    1|\n",
            "+----------------+-----+\n",
            "only showing top 20 rows\n",
            "\n",
            "+---------+------+\n",
            "|Bank Type| count|\n",
            "+---------+------+\n",
            "|     Govt| 64288|\n",
            "|  Private|128754|\n",
            "+---------+------+\n",
            "\n",
            "+--------------------+-----+\n",
            "|         Name Masked|count|\n",
            "+--------------------+-----+\n",
            "|Business_Name_140550|    1|\n",
            "|Business_Name_139609|    1|\n",
            "| Business_Name_73472|    1|\n",
            "| Business_Name_62132|    2|\n",
            "| Business_Name_28654|    1|\n",
            "|Business_Name_105970|    1|\n",
            "| Business_Name_84125|    2|\n",
            "| Business_Name_94290|    1|\n",
            "|Business_Name_104886|    1|\n",
            "| Business_Name_70810|    2|\n",
            "|Business_Name_119181|    1|\n",
            "|Business_Name_153633|    1|\n",
            "|Business_Name_108035|    1|\n",
            "| Business_Name_77717|    2|\n",
            "| Business_Name_97956|    1|\n",
            "| Business_Name_13852|    1|\n",
            "|  Business_Name_4697|    2|\n",
            "| Business_Name_50851|    2|\n",
            "| Business_Name_30859|    3|\n",
            "|Business_Name_104949|    1|\n",
            "+--------------------+-----+\n",
            "only showing top 20 rows\n",
            "\n",
            "+--------------------+-----+\n",
            "|Business Owner State|count|\n",
            "+--------------------+-----+\n",
            "|           Karnataka|  786|\n",
            "|              Kerala|  540|\n",
            "|          Tamil Nadu| 1998|\n",
            "|              Punjab|  610|\n",
            "|             Haryana|55831|\n",
            "|              Orissa| 2583|\n",
            "|               Delhi|57916|\n",
            "|         Maharashtra|47587|\n",
            "|       Uttar Pradesh|23912|\n",
            "|         Uttarakhand| 1279|\n",
            "+--------------------+-----+\n",
            "\n",
            "+-------------+-----+\n",
            "|    BankState|count|\n",
            "+-------------+-----+\n",
            "|    Karnataka|  662|\n",
            "|       Kerala|  318|\n",
            "|   Tamil Nadu|  931|\n",
            "|       Punjab|  463|\n",
            "|            0|   73|\n",
            "|          Goa|   11|\n",
            "|      Haryana|38935|\n",
            "|       Orissa| 1979|\n",
            "|        Delhi|73245|\n",
            "|  Maharashtra|59708|\n",
            "|Uttar Pradesh|15928|\n",
            "|  Uttarakhand|  789|\n",
            "+-------------+-----+\n",
            "\n",
            "+--------------------+------+\n",
            "|Carry-forward Credit| count|\n",
            "+--------------------+------+\n",
            "|                   Y| 46504|\n",
            "|                   N|146538|\n",
            "+--------------------+------+\n",
            "\n",
            "+------------------+------+\n",
            "|Documents Provided| count|\n",
            "+------------------+------+\n",
            "|                 Y| 24040|\n",
            "|                 N|169002|\n",
            "+------------------+------+\n",
            "\n"
          ]
        }
      ]
    },
    {
      "cell_type": "code",
      "source": [
        "data_df = data_not_nan.drop('Name Masked', 'Bank Masked', 'Application ID')"
      ],
      "metadata": {
        "id": "i995NJvZaVXC"
      },
      "execution_count": null,
      "outputs": []
    },
    {
      "cell_type": "code",
      "source": [
        "data_df.show(5)"
      ],
      "metadata": {
        "colab": {
          "base_uri": "https://localhost:8080/"
        },
        "id": "Nvk1-WInbkiU",
        "outputId": "a0bfb910-8825-494d-b0b5-656dafb9120a"
      },
      "execution_count": null,
      "outputs": [
        {
          "output_type": "stream",
          "name": "stdout",
          "text": [
            "+---------+------------------+--------------------+---------------------------+-------------+------------+----+-------------+-------------+---------+----------------------+----------+-------------+------------------------------+-----------------------+----------------------------+------------------+-------------------+-------------+--------------+--------------------+------------------+------------+-------------------+--------------+\n",
            "|Bank Type|Approved_Timestamp|Business Owner State|Business_Industry_Type_Code|Approved_Year|New Business|Term|    BankState|Interest Rate|Employees|Gross Disbursed Amount|Term_years|Jobs Retained|Male to Female Employees Ratio|Expected Company Income|Funds available with company|Gross_Apprv_Amount|Company Branch Code|City or Rural|Jobs Generated|Carry-forward Credit|Documents Provided|Balance Left|Final_Appved_Amount|Default_Status|\n",
            "+---------+------------------+--------------------+---------------------------+-------------+------------+----+-------------+-------------+---------+----------------------+----------+-------------+------------------------------+-----------------------+----------------------------+------------------+-------------------+-------------+--------------+--------------------+------------------+------------+-------------------+--------------+\n",
            "|  Private|        12-10-2005|       Uttar Pradesh|                     525161|         2005|           1| 219|Uttar Pradesh|            3|       42|              18550000|        18|           18|                             4|                3500000|                      780590|          18550000|              25650|            1|             3|                   N|                 N|           0|           13912500|             0|\n",
            "|     Govt|        21-11-2006|       Uttar Pradesh|                       1231|         2006|           1|  71|Uttar Pradesh|            5|       20|               3045000|         6|           10|                            16|                1666667|                     1835637|           2450000|                  0|            1|             0|                   Y|                 N|           0|            1225000|             1|\n",
            "|  Private|        28-11-2007|       Uttar Pradesh|                     322442|         2007|           2|  84|  Maharashtra|            8|       16|               1750000|         7|           10|                             8|                1333333|                     2373333|           1750000|                  0|            2|             2|                   Y|                 N|           0|            1487500|             0|\n",
            "|     Govt|        18-04-2009|              Kerala|                       1231|         2009|           1| 300|        Delhi|            8|        4|              38850000|        25|            2|                             6|                 333333|                     2346786|          38850000|                  1|            1|             0|                   N|                 N|           0|           29137500|             0|\n",
            "|     Govt|        23-11-2002|               Delhi|                       1231|         2002|           2| 153|  Maharashtra|           11|        4|               2800000|        13|            0|                             8|                 333333|                     2382995|           2800000|                  1|            2|             0|                   N|                 Y|           0|            2380000|             0|\n",
            "+---------+------------------+--------------------+---------------------------+-------------+------------+----+-------------+-------------+---------+----------------------+----------+-------------+------------------------------+-----------------------+----------------------------+------------------+-------------------+-------------+--------------+--------------------+------------------+------------+-------------------+--------------+\n",
            "only showing top 5 rows\n",
            "\n"
          ]
        }
      ]
    },
    {
      "cell_type": "code",
      "source": [
        "for col in data_df.columns:\n",
        "    print(col, count_cat_val(col))"
      ],
      "metadata": {
        "colab": {
          "base_uri": "https://localhost:8080/"
        },
        "id": "VjvhJAKkcDQX",
        "outputId": "2353502a-dbd8-46ce-90d5-5f120f19b68e"
      },
      "execution_count": null,
      "outputs": [
        {
          "output_type": "stream",
          "name": "stdout",
          "text": [
            "Bank Type 2\n",
            "Approved_Timestamp 6408\n",
            "Business Owner State 10\n",
            "Business_Industry_Type_Code 2073\n",
            "Approved_Year 18\n",
            "New Business 3\n",
            "Term 363\n",
            "BankState 12\n",
            "Interest Rate 11\n",
            "Employees 430\n",
            "Gross Disbursed Amount 36847\n",
            "Term_years 39\n",
            "Jobs Retained 233\n",
            "Male to Female Employees Ratio 50\n",
            "Expected Company Income 1846\n",
            "Funds available with company 185045\n",
            "Gross_Apprv_Amount 8990\n",
            "Company Branch Code 1624\n",
            "City or Rural 3\n",
            "Jobs Generated 154\n",
            "Carry-forward Credit 2\n",
            "Documents Provided 2\n",
            "Balance Left 3\n",
            "Final_Appved_Amount 15389\n",
            "Default_Status 2\n"
          ]
        }
      ]
    },
    {
      "cell_type": "code",
      "source": [
        "from pyspark.ml.feature import StringIndexer, IndexToString, OneHotEncoder"
      ],
      "metadata": {
        "id": "xmZPqODIcDNI"
      },
      "execution_count": null,
      "outputs": []
    },
    {
      "cell_type": "code",
      "source": [
        "data_df.show(3)"
      ],
      "metadata": {
        "colab": {
          "base_uri": "https://localhost:8080/"
        },
        "id": "ifAe-EtVjy0i",
        "outputId": "9d833c65-17e6-4949-f34c-7200809a377e"
      },
      "execution_count": null,
      "outputs": [
        {
          "output_type": "stream",
          "name": "stdout",
          "text": [
            "+---------+------------------+--------------------+---------------------------+-------------+------------+----+-------------+-------------+---------+----------------------+----------+-------------+------------------------------+-----------------------+----------------------------+------------------+-------------------+-------------+--------------+--------------------+------------------+------------+-------------------+--------------+\n",
            "|Bank Type|Approved_Timestamp|Business Owner State|Business_Industry_Type_Code|Approved_Year|New Business|Term|    BankState|Interest Rate|Employees|Gross Disbursed Amount|Term_years|Jobs Retained|Male to Female Employees Ratio|Expected Company Income|Funds available with company|Gross_Apprv_Amount|Company Branch Code|City or Rural|Jobs Generated|Carry-forward Credit|Documents Provided|Balance Left|Final_Appved_Amount|Default_Status|\n",
            "+---------+------------------+--------------------+---------------------------+-------------+------------+----+-------------+-------------+---------+----------------------+----------+-------------+------------------------------+-----------------------+----------------------------+------------------+-------------------+-------------+--------------+--------------------+------------------+------------+-------------------+--------------+\n",
            "|  Private|        12-10-2005|       Uttar Pradesh|                     525161|         2005|           1| 219|Uttar Pradesh|            3|       42|              18550000|        18|           18|                             4|                3500000|                      780590|          18550000|              25650|            1|             3|                   N|                 N|           0|           13912500|             0|\n",
            "|     Govt|        21-11-2006|       Uttar Pradesh|                       1231|         2006|           1|  71|Uttar Pradesh|            5|       20|               3045000|         6|           10|                            16|                1666667|                     1835637|           2450000|                  0|            1|             0|                   Y|                 N|           0|            1225000|             1|\n",
            "|  Private|        28-11-2007|       Uttar Pradesh|                     322442|         2007|           2|  84|  Maharashtra|            8|       16|               1750000|         7|           10|                             8|                1333333|                     2373333|           1750000|                  0|            2|             2|                   Y|                 N|           0|            1487500|             0|\n",
            "+---------+------------------+--------------------+---------------------------+-------------+------------+----+-------------+-------------+---------+----------------------+----------+-------------+------------------------------+-----------------------+----------------------------+------------------+-------------------+-------------+--------------+--------------------+------------------+------------+-------------------+--------------+\n",
            "only showing top 3 rows\n",
            "\n"
          ]
        }
      ]
    },
    {
      "cell_type": "code",
      "source": [
        "from pyspark.ml.functions import vector_to_array"
      ],
      "metadata": {
        "id": "nylCXT8DrYcW"
      },
      "execution_count": null,
      "outputs": []
    },
    {
      "cell_type": "code",
      "source": [
        "cat_col = ['Bank Type', 'Business Owner State', 'BankState', 'Carry-forward Credit', 'Documents Provided']\n",
        "cat_to_one_hot = ['Business Owner State']"
      ],
      "metadata": {
        "id": "AgRtQKG4nHtk"
      },
      "execution_count": null,
      "outputs": []
    },
    {
      "cell_type": "code",
      "source": [
        "def conv_label_in(col, data):\n",
        "    \n",
        "    indexer = StringIndexer(inputCol=col, outputCol=col+\"_index\")\n",
        "    indexer = indexer.fit(data)\n",
        "    indexer_transform = indexer.transform(data).drop(col)\n",
        "    return (indexer_transform, indexer) if col in cat_to_one_hot else (indexer_transform, 0)\n",
        "\n",
        "def conv_one_hot(col, data, label):\n",
        "    ohe_encoder = OneHotEncoder(inputCols=[col+\"_index\"], outputCols=[col+\"_onehot\"])\n",
        "    ohe_encoder = ohe_encoder.fit(data)\n",
        "    ohe_encoder = ohe_encoder.transform(data).drop(col)\n",
        "\n",
        "    df_col_onehot = ohe_encoder.select('*', vector_to_array(col+\"_onehot\").alias(col+'_onehot_arr'))\n",
        "    num_categories = len(df_col_onehot.first()[col+\"_onehot_arr\"]) \n",
        "    cols_expanded = [(F.col(col+'_onehot_arr')[i].alias(f'{label[i]}'))  for i in range(num_categories)]\n",
        "    df_cols_onehot = df_col_onehot.select('*', *cols_expanded)\n",
        "    return df_cols_onehot.drop(col+'_onehot', col+'_onehot_arr')\n"
      ],
      "metadata": {
        "id": "Is04rII4h1Zb"
      },
      "execution_count": null,
      "outputs": []
    },
    {
      "cell_type": "code",
      "source": [
        "data_label_cod = data_df\n",
        "label_list = []\n",
        "for col in cat_col:\n",
        "    data_label_cod, label = conv_label_in(col, data_label_cod)\n",
        "    if label:\n",
        "        label_list.append(label)\n",
        "data_label_cod.show(3)"
      ],
      "metadata": {
        "colab": {
          "base_uri": "https://localhost:8080/"
        },
        "id": "gDEZePPAnrbS",
        "outputId": "9c1191d6-0ad8-417b-da82-3f4780b4790f"
      },
      "execution_count": null,
      "outputs": [
        {
          "output_type": "stream",
          "name": "stdout",
          "text": [
            "+------------------+---------------------------+-------------+------------+----+-------------+---------+----------------------+----------+-------------+------------------------------+-----------------------+----------------------------+------------------+-------------------+-------------+--------------+------------+-------------------+--------------+---------------+--------------------------+---------------+--------------------------+------------------------+\n",
            "|Approved_Timestamp|Business_Industry_Type_Code|Approved_Year|New Business|Term|Interest Rate|Employees|Gross Disbursed Amount|Term_years|Jobs Retained|Male to Female Employees Ratio|Expected Company Income|Funds available with company|Gross_Apprv_Amount|Company Branch Code|City or Rural|Jobs Generated|Balance Left|Final_Appved_Amount|Default_Status|Bank Type_index|Business Owner State_index|BankState_index|Carry-forward Credit_index|Documents Provided_index|\n",
            "+------------------+---------------------------+-------------+------------+----+-------------+---------+----------------------+----------+-------------+------------------------------+-----------------------+----------------------------+------------------+-------------------+-------------+--------------+------------+-------------------+--------------+---------------+--------------------------+---------------+--------------------------+------------------------+\n",
            "|        12-10-2005|                     525161|         2005|           1| 219|            3|       42|              18550000|        18|           18|                             4|                3500000|                      780590|          18550000|              25650|            1|             3|           0|           13912500|             0|            0.0|                       3.0|            3.0|                       0.0|                     0.0|\n",
            "|        21-11-2006|                       1231|         2006|           1|  71|            5|       20|               3045000|         6|           10|                            16|                1666667|                     1835637|           2450000|                  0|            1|             0|           0|            1225000|             1|            1.0|                       3.0|            3.0|                       1.0|                     0.0|\n",
            "|        28-11-2007|                     322442|         2007|           2|  84|            8|       16|               1750000|         7|           10|                             8|                1333333|                     2373333|           1750000|                  0|            2|             2|           0|            1487500|             0|            0.0|                       3.0|            1.0|                       1.0|                     0.0|\n",
            "+------------------+---------------------------+-------------+------------+----+-------------+---------+----------------------+----------+-------------+------------------------------+-----------------------+----------------------------+------------------+-------------------+-------------+--------------+------------+-------------------+--------------+---------------+--------------------------+---------------+--------------------------+------------------------+\n",
            "only showing top 3 rows\n",
            "\n"
          ]
        }
      ]
    },
    {
      "cell_type": "code",
      "source": [
        "data.select('Business Owner State', 'BankState').show()"
      ],
      "metadata": {
        "colab": {
          "base_uri": "https://localhost:8080/"
        },
        "id": "qldM9qG7b51w",
        "outputId": "fec3e30a-6f25-4a01-d608-c61e8312565b"
      },
      "execution_count": null,
      "outputs": [
        {
          "output_type": "stream",
          "name": "stdout",
          "text": [
            "+--------------------+-------------+\n",
            "|Business Owner State|    BankState|\n",
            "+--------------------+-------------+\n",
            "|       Uttar Pradesh|Uttar Pradesh|\n",
            "|       Uttar Pradesh|Uttar Pradesh|\n",
            "|       Uttar Pradesh|  Maharashtra|\n",
            "|              Kerala|        Delhi|\n",
            "|               Delhi|  Maharashtra|\n",
            "|         Maharashtra|  Maharashtra|\n",
            "|               Delhi|        Delhi|\n",
            "|       Uttar Pradesh|        Delhi|\n",
            "|             Haryana|      Haryana|\n",
            "|         Maharashtra|        Delhi|\n",
            "|       Uttar Pradesh|Uttar Pradesh|\n",
            "|             Haryana|        Delhi|\n",
            "|               Delhi|        Delhi|\n",
            "|         Maharashtra|  Maharashtra|\n",
            "|              Kerala|       Kerala|\n",
            "|       Uttar Pradesh|Uttar Pradesh|\n",
            "|               Delhi|        Delhi|\n",
            "|         Maharashtra|      Haryana|\n",
            "|             Haryana|      Haryana|\n",
            "|              Punjab|       Punjab|\n",
            "+--------------------+-------------+\n",
            "only showing top 20 rows\n",
            "\n"
          ]
        }
      ]
    },
    {
      "cell_type": "code",
      "source": [
        "label_list[0].labels"
      ],
      "metadata": {
        "colab": {
          "base_uri": "https://localhost:8080/"
        },
        "id": "lQ2ph2BM7pQb",
        "outputId": "b216a731-682b-4b45-972a-897b77e7cc03"
      },
      "execution_count": null,
      "outputs": [
        {
          "output_type": "execute_result",
          "data": {
            "text/plain": [
              "['Delhi',\n",
              " 'Haryana',\n",
              " 'Maharashtra',\n",
              " 'Uttar Pradesh',\n",
              " 'Orissa',\n",
              " 'Tamil Nadu',\n",
              " 'Uttarakhand',\n",
              " 'Karnataka',\n",
              " 'Punjab',\n",
              " 'Kerala']"
            ]
          },
          "metadata": {},
          "execution_count": 282
        }
      ]
    },
    {
      "cell_type": "code",
      "source": [
        "data_hot_cod = data_label_cod\n",
        "for index, col in enumerate(cat_to_one_hot):\n",
        "    data_hot_cod = conv_one_hot(col, data_hot_cod, label_list[index].labels)\n",
        "data_hot_cod.show(3)"
      ],
      "metadata": {
        "colab": {
          "base_uri": "https://localhost:8080/"
        },
        "id": "7fQsAdF1oyue",
        "outputId": "b885c36b-b7ba-48bc-a6b6-3d4b5d5f2ae7"
      },
      "execution_count": null,
      "outputs": [
        {
          "output_type": "stream",
          "name": "stdout",
          "text": [
            "+------------------+---------------------------+-------------+------------+----+-------------+---------+----------------------+----------+-------------+------------------------------+-----------------------+----------------------------+------------------+-------------------+-------------+--------------+------------+-------------------+--------------+---------------+--------------------------+---------------+--------------------------+------------------------+-----+-------+-----------+-------------+------+----------+-----------+---------+------+\n",
            "|Approved_Timestamp|Business_Industry_Type_Code|Approved_Year|New Business|Term|Interest Rate|Employees|Gross Disbursed Amount|Term_years|Jobs Retained|Male to Female Employees Ratio|Expected Company Income|Funds available with company|Gross_Apprv_Amount|Company Branch Code|City or Rural|Jobs Generated|Balance Left|Final_Appved_Amount|Default_Status|Bank Type_index|Business Owner State_index|BankState_index|Carry-forward Credit_index|Documents Provided_index|Delhi|Haryana|Maharashtra|Uttar Pradesh|Orissa|Tamil Nadu|Uttarakhand|Karnataka|Punjab|\n",
            "+------------------+---------------------------+-------------+------------+----+-------------+---------+----------------------+----------+-------------+------------------------------+-----------------------+----------------------------+------------------+-------------------+-------------+--------------+------------+-------------------+--------------+---------------+--------------------------+---------------+--------------------------+------------------------+-----+-------+-----------+-------------+------+----------+-----------+---------+------+\n",
            "|        12-10-2005|                     525161|         2005|           1| 219|            3|       42|              18550000|        18|           18|                             4|                3500000|                      780590|          18550000|              25650|            1|             3|           0|           13912500|             0|            0.0|                       3.0|            3.0|                       0.0|                     0.0|  0.0|    0.0|        0.0|          1.0|   0.0|       0.0|        0.0|      0.0|   0.0|\n",
            "|        21-11-2006|                       1231|         2006|           1|  71|            5|       20|               3045000|         6|           10|                            16|                1666667|                     1835637|           2450000|                  0|            1|             0|           0|            1225000|             1|            1.0|                       3.0|            3.0|                       1.0|                     0.0|  0.0|    0.0|        0.0|          1.0|   0.0|       0.0|        0.0|      0.0|   0.0|\n",
            "|        28-11-2007|                     322442|         2007|           2|  84|            8|       16|               1750000|         7|           10|                             8|                1333333|                     2373333|           1750000|                  0|            2|             2|           0|            1487500|             0|            0.0|                       3.0|            1.0|                       1.0|                     0.0|  0.0|    0.0|        0.0|          1.0|   0.0|       0.0|        0.0|      0.0|   0.0|\n",
            "+------------------+---------------------------+-------------+------------+----+-------------+---------+----------------------+----------+-------------+------------------------------+-----------------------+----------------------------+------------------+-------------------+-------------+--------------+------------+-------------------+--------------+---------------+--------------------------+---------------+--------------------------+------------------------+-----+-------+-----------+-------------+------+----------+-----------+---------+------+\n",
            "only showing top 3 rows\n",
            "\n"
          ]
        }
      ]
    },
    {
      "cell_type": "code",
      "source": [
        "data_hot_cod.count()"
      ],
      "metadata": {
        "colab": {
          "base_uri": "https://localhost:8080/"
        },
        "id": "TlrXiVfv7i6k",
        "outputId": "7182663e-e3e3-448a-ed53-c79ea4e836d1"
      },
      "execution_count": null,
      "outputs": [
        {
          "output_type": "execute_result",
          "data": {
            "text/plain": [
              "193042"
            ]
          },
          "metadata": {},
          "execution_count": 285
        }
      ]
    },
    {
      "cell_type": "code",
      "source": [
        "from pyspark.ml import Pipeline\n",
        "from pyspark.ml.classification import LogisticRegression, LogisticRegressionModel\n",
        "from pyspark.ml.feature import VectorAssembler\n",
        "from pyspark.ml.tuning import ParamGridBuilder, TrainValidationSplit, CrossValidator\n",
        "from pyspark.ml.evaluation import BinaryClassificationEvaluator"
      ],
      "metadata": {
        "id": "ivELDALVENLe"
      },
      "execution_count": null,
      "outputs": []
    },
    {
      "cell_type": "code",
      "source": [
        "train, test = data_not_nan.randomSplit([0.7, 0.3], seed=7)\n",
        "Bank_Type_indexer = StringIndexer(inputCol='Bank Type', outputCol=\"bank_type_index\")\n",
        "BOS_indexer = StringIndexer(inputCol='Business Owner State', outputCol=\"business_owner_state_index\")\n",
        "CFC_indexer = StringIndexer(inputCol='Carry-forward Credit', outputCol=\"carry_forward_credit_index\")\n",
        "DP_indexer = StringIndexer(inputCol='Documents Provided', outputCol=\"documents_provided_index\")\n",
        "\n",
        "\n",
        "\n",
        "ohe_encoder = OneHotEncoder(inputCols=[\"bank_type_index\", \"business_owner_state_index\"],\n",
        "                        outputCols=[\"bank_type_vec\", \"business_owner_state_vec\"])\n",
        "\n",
        "feature_columns = [\n",
        "                'carry_forward_credit_index',\n",
        "                'documents_provided_index',\n",
        "                'Business_Industry_Type_Code',\n",
        "                'Approved_Year',\n",
        "                'New Business',\n",
        "                'Term',\n",
        "                # 'BankState',\n",
        "                'Interest Rate',\n",
        "                'Employees',\n",
        "                'Gross Disbursed Amount',\n",
        "                'Term_years',\n",
        "                'Jobs Retained',\n",
        "                'Male to Female Employees Ratio',\n",
        "                'Expected Company Income',\n",
        "                'Funds available with company',\n",
        "                'Gross_Apprv_Amount',\n",
        "                'Company Branch Code',\n",
        "                'City or Rural',\n",
        "                'Jobs Generated',\n",
        "                # 'Balance Left',\n",
        "                'Final_Appved_Amount',\n",
        "                'bank_type_vec',\n",
        "                'business_owner_state_vec'                 \n",
        "]\n",
        "\n",
        "target = 'Default_Status'\n",
        "\n",
        "vector_assembler = VectorAssembler(inputCols = feature_columns, outputCol = 'features')\n",
        "\n",
        "\n",
        "lr = LogisticRegression(featuresCol='features', labelCol=target, predictionCol='prediction',\n",
        "                        maxIter=10,\n",
        "                        elasticNetParam = 1,\n",
        "                        probabilityCol='proba')\n",
        "\n",
        "pipeline = Pipeline(stages=[\n",
        "                        Bank_Type_indexer,\n",
        "                        BOS_indexer,\n",
        "                        CFC_indexer,\n",
        "                        DP_indexer,\n",
        "                        ohe_encoder,\n",
        "                        vector_assembler,\n",
        "                        lr\n",
        "])\n",
        "\n",
        "\n",
        "Model_best_gip_par = pipeline.fit(train)"
      ],
      "metadata": {
        "id": "FDO8FMmlHchk"
      },
      "execution_count": null,
      "outputs": []
    },
    {
      "cell_type": "code",
      "source": [
        "# transformed_data.select('prediction').groupBy('prediction').count().show()"
      ],
      "metadata": {
        "colab": {
          "base_uri": "https://localhost:8080/"
        },
        "id": "vgCQOY9enoUD",
        "outputId": "9cc148ac-9432-4b29-d3d3-3459a13d3872"
      },
      "execution_count": null,
      "outputs": [
        {
          "output_type": "stream",
          "name": "stdout",
          "text": [
            "+----------+------+\n",
            "|prediction| count|\n",
            "+----------+------+\n",
            "|       0.0|135064|\n",
            "|       1.0|   102|\n",
            "+----------+------+\n",
            "\n"
          ]
        }
      ]
    },
    {
      "cell_type": "code",
      "source": [
        "paramGrid = ParamGridBuilder() \\\n",
        "    .addGrid(lr.maxIter, [10, 20, 200, 100, 500]) \\\n",
        "    .addGrid(lr.regParam, [0, 0.1, 0.2, 0.3, 1])\\\n",
        "    .addGrid(lr.elasticNetParam, [0, 0.3, 0.7, 1])\\\n",
        "    .build()\n",
        "\n",
        "crossval = CrossValidator(estimator=pipeline,\n",
        "                          estimatorParamMaps=paramGrid,\n",
        "                          evaluator=BinaryClassificationEvaluator(rawPredictionCol='rawPrediction',\n",
        "                                                                  labelCol=target, metricName='areaUnderROC'),\n",
        "                          numFolds=6,\n",
        "                          parallelism=2)\n",
        "Model = crossval.fit(train)"
      ],
      "metadata": {
        "id": "Dvw4_Q234BEY"
      },
      "execution_count": null,
      "outputs": []
    },
    {
      "cell_type": "code",
      "source": [
        "Model.avgMetrics"
      ],
      "metadata": {
        "colab": {
          "base_uri": "https://localhost:8080/"
        },
        "id": "r2ZcqJHXA-Pz",
        "outputId": "8e133513-aa06-4182-ab89-03ef9f0ae80b"
      },
      "execution_count": null,
      "outputs": [
        {
          "output_type": "execute_result",
          "data": {
            "text/plain": [
              "[0.7107644984860285,\n",
              " 0.7107646390142125,\n",
              " 0.7107650266409345,\n",
              " 0.7107651475344343,\n",
              " 0.7005391299162586,\n",
              " 0.7048369262449695,\n",
              " 0.7031443783049843,\n",
              " 0.5,\n",
              " 0.6945263985181335,\n",
              " 0.7031443783049843,\n",
              " 0.5,\n",
              " 0.5,\n",
              " 0.6908178658818055,\n",
              " 0.5,\n",
              " 0.5,\n",
              " 0.5,\n",
              " 0.6823872836322215,\n",
              " 0.5,\n",
              " 0.5,\n",
              " 0.5,\n",
              " 0.7107309360902966,\n",
              " 0.7107340234949374,\n",
              " 0.7107308450637458,\n",
              " 0.7107308537616924,\n",
              " 0.7005374965397722,\n",
              " 0.7048369262449695,\n",
              " 0.7031443783049843,\n",
              " 0.5,\n",
              " 0.6945256732599576,\n",
              " 0.7031443783049843,\n",
              " 0.5,\n",
              " 0.5,\n",
              " 0.6908182187711644,\n",
              " 0.5,\n",
              " 0.5,\n",
              " 0.5,\n",
              " 0.6823877254900887,\n",
              " 0.5,\n",
              " 0.5,\n",
              " 0.5,\n",
              " 0.7105415262007412,\n",
              " 0.710541467928635,\n",
              " 0.7105438925686386,\n",
              " 0.710541290647451,\n",
              " 0.7005376440980889,\n",
              " 0.7048369262449695,\n",
              " 0.7031443783049843,\n",
              " 0.5,\n",
              " 0.6945252453138663,\n",
              " 0.7031443783049843,\n",
              " 0.5,\n",
              " 0.5,\n",
              " 0.690817267121561,\n",
              " 0.5,\n",
              " 0.5,\n",
              " 0.5,\n",
              " 0.6823874366506462,\n",
              " 0.5,\n",
              " 0.5,\n",
              " 0.5,\n",
              " 0.7105193064852166,\n",
              " 0.7105202947167241,\n",
              " 0.7105188304099173,\n",
              " 0.7105173949224838,\n",
              " 0.700539617650974,\n",
              " 0.7048369262449694,\n",
              " 0.7031443783049843,\n",
              " 0.5,\n",
              " 0.6945260343598969,\n",
              " 0.7031443783049843,\n",
              " 0.5,\n",
              " 0.5,\n",
              " 0.6908166648117491,\n",
              " 0.5,\n",
              " 0.5,\n",
              " 0.5,\n",
              " 0.6823878199319475,\n",
              " 0.5,\n",
              " 0.5,\n",
              " 0.5,\n",
              " 0.7105457134002693,\n",
              " 0.7105427655357385,\n",
              " 0.7105451810232073,\n",
              " 0.7105415587013916,\n",
              " 0.7005387822420649,\n",
              " 0.7048369262449694,\n",
              " 0.7031443783049843,\n",
              " 0.5,\n",
              " 0.694528318040633,\n",
              " 0.7031443783049843,\n",
              " 0.5,\n",
              " 0.5,\n",
              " 0.6908161383162174,\n",
              " 0.5,\n",
              " 0.5,\n",
              " 0.5,\n",
              " 0.6823883777410336,\n",
              " 0.5,\n",
              " 0.5,\n",
              " 0.5]"
            ]
          },
          "metadata": {},
          "execution_count": 191
        }
      ]
    },
    {
      "cell_type": "code",
      "source": [
        "import numpy as np\n",
        "Model.getEstimatorParamMaps()[np.argmax(Model.avgMetrics)]"
      ],
      "metadata": {
        "colab": {
          "base_uri": "https://localhost:8080/"
        },
        "id": "2WVHFH8kIHG0",
        "outputId": "76ce932e-29be-4ea6-af7a-81f46f97894d"
      },
      "execution_count": null,
      "outputs": [
        {
          "output_type": "execute_result",
          "data": {
            "text/plain": [
              "{Param(parent='LogisticRegression_66078dd293d6', name='maxIter', doc='max number of iterations (>= 0).'): 10,\n",
              " Param(parent='LogisticRegression_66078dd293d6', name='regParam', doc='regularization parameter (>= 0).'): 0.0,\n",
              " Param(parent='LogisticRegression_66078dd293d6', name='elasticNetParam', doc='the ElasticNet mixing parameter, in range [0, 1]. For alpha = 0, the penalty is an L2 penalty. For alpha = 1, it is an L1 penalty.'): 1.0}"
            ]
          },
          "metadata": {},
          "execution_count": 192
        }
      ]
    },
    {
      "cell_type": "code",
      "source": [
        "evaluator = BinaryClassificationEvaluator(rawPredictionCol='rawPrediction',\n",
        "                                          labelCol=target, \n",
        "                                          metricName='areaUnderROC')\n",
        "evaluator.evaluate(Model.transform(test))"
      ],
      "metadata": {
        "colab": {
          "base_uri": "https://localhost:8080/"
        },
        "id": "c4MSU0BzBFD1",
        "outputId": "77f87818-e3d0-4f43-9372-159dd4e18253"
      },
      "execution_count": null,
      "outputs": [
        {
          "output_type": "execute_result",
          "data": {
            "text/plain": [
              "0.7127749980696461"
            ]
          },
          "metadata": {},
          "execution_count": 132
        }
      ]
    },
    {
      "cell_type": "code",
      "source": [
        "transformed_data = Model_best_gip_par.transform(train)\n",
        "\n",
        "evaluator = BinaryClassificationEvaluator(rawPredictionCol='rawPrediction',\n",
        "                                          labelCol=target, \n",
        "                                          metricName='areaUnderROC')\n",
        "evaluator.evaluate(transformed_data)"
      ],
      "metadata": {
        "id": "TGOPM3L-ZNQ_",
        "colab": {
          "base_uri": "https://localhost:8080/"
        },
        "outputId": "1861af13-fb1a-4810-f77f-9dda128971e7"
      },
      "execution_count": null,
      "outputs": [
        {
          "output_type": "execute_result",
          "data": {
            "text/plain": [
              "0.7109436303848229"
            ]
          },
          "metadata": {},
          "execution_count": 195
        }
      ]
    },
    {
      "cell_type": "code",
      "source": [
        "transformed_data = Model_best_gip_par.transform(test)\n",
        "\n",
        "evaluator = BinaryClassificationEvaluator(rawPredictionCol='rawPrediction',\n",
        "                                          labelCol=target, \n",
        "                                          metricName='areaUnderROC')\n",
        "evaluator.evaluate(transformed_data)"
      ],
      "metadata": {
        "colab": {
          "base_uri": "https://localhost:8080/"
        },
        "id": "9VdnqhaT2YBM",
        "outputId": "c61b8846-5bd4-425f-f79e-0d45c904e087"
      },
      "execution_count": null,
      "outputs": [
        {
          "output_type": "execute_result",
          "data": {
            "text/plain": [
              "0.7121382976826156"
            ]
          },
          "metadata": {},
          "execution_count": 196
        }
      ]
    },
    {
      "cell_type": "code",
      "source": [],
      "metadata": {
        "id": "BVMd00fz3eUa"
      },
      "execution_count": null,
      "outputs": []
    }
  ]
}